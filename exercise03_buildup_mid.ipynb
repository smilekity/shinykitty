{
 "cells": [
  {
   "cell_type": "markdown",
   "metadata": {},
   "source": [
    "# PIA Pacemaker - Python 과정\n",
    "\n",
    "# Python 실습예제 #3\n",
    "\n",
    "기초부터 문제까지 차근차근 Build-up\n",
    "\n",
    "- 함수\n",
    "- 예외처리\n",
    "- 클래스\n",
    "- 모듈\n",
    "\n",
    "실습예제 #3에서는 앞서서 실습예제 #1, #2을 통해 구현한 기능들에 함수, 클래스, 모듈을 적용해 봅니다.\n",
    "\n",
    "이미 다뤘던 정렬 기능, 카운트 기능을 재사용 하기 위해서는 어떻게 해야 하는지 알아봅니다.\n",
    "\n",
    "그리고 코드의 완성도를 높이기 위해 예외처리를 사용하는 방법도 배워보겠습니다.\n"
   ]
  },
  {
   "cell_type": "markdown",
   "metadata": {},
   "source": [
    "### 연습 1. 함수 (Functions)\n",
    "\n",
    "함수를 사용하는 이유: 코드의 중복을 막고 재사용성을 높이기 위해\n",
    "\n",
    "함수 정의 방법:\n",
    "\n",
    "&emsp;def 함수이름(매개변수):  \n",
    "&emsp;&emsp; ...  \n",
    "&emsp;&emsp; return 반환값\n"
   ]
  },
  {
   "cell_type": "code",
   "execution_count": 1,
   "metadata": {},
   "outputs": [
    {
     "name": "stdout",
     "output_type": "stream",
     "text": [
      "98\n",
      "45\n"
     ]
    }
   ],
   "source": [
    "# 함수의 정의\n",
    "def sample_function1(a, b):\n",
    "    res = a * 10 + b\n",
    "    return res\n",
    "\n",
    "\n",
    "# 호출\n",
    "r = sample_function1(9, 8)\n",
    "s = sample_function1(4, 5)\n",
    "\n",
    "print(r)\n",
    "print(s)\n",
    "\n",
    "\n",
    "# 여기서 함수 안에 선언된 변수 res를 출력하면 어떻게 될까요? 왜 그런 결과가 나올까요? (변수의 scope 참고)\n",
    "# print(res)\n"
   ]
  },
  {
   "cell_type": "markdown",
   "metadata": {},
   "source": [
    "### 연습 2. 변수의 Scope\n",
    "\n",
    "함수의 매개변수를 포함하여 함수 내부에 선언된 변수는 local scope를 가집니다. 이를 local variable 즉, 지역변수라고 합니다.\n",
    "\n",
    "함수 외부의 전역 공간 (함수, 클래스도 아닌 공간)에 선언된 변수는 global scope를 갖고, 이를 global variable 또는 전역변수라고 합니다."
   ]
  },
  {
   "cell_type": "code",
   "execution_count": 2,
   "metadata": {},
   "outputs": [
    {
     "name": "stdout",
     "output_type": "stream",
     "text": [
      "함수 외부 전역공간 a, b: 10 20\n",
      "함수 내부 지역공간 a, b: 30 40\n",
      "함수 외부 전역공간 a, b: 10 20\n"
     ]
    }
   ],
   "source": [
    "def add(a, b):\n",
    "    print('함수 내부 지역공간 a, b:', a, b)\n",
    "    res = a + b\n",
    "    return res\n",
    "\n",
    "\n",
    "a = 10\n",
    "b = 20\n",
    "c = 30\n",
    "d = 40\n",
    "\n",
    "print('함수 외부 전역공간 a, b:', a, b)\n",
    "\n",
    "\n",
    "e = add(c, d)\n",
    "\n",
    "\n",
    "print('함수 외부 전역공간 a, b:', a, b)\n"
   ]
  },
  {
   "cell_type": "markdown",
   "metadata": {},
   "source": [
    "### 연습 3. 함수의 종류\n",
    "\n",
    "매개변수(parameter 혹은 argument)와 리턴(return)의 유무에 따른 함수의 종류\n",
    "\n",
    "\\- parameter & return 모두 존재 :  함수의 가장 일반적인 형태. 매개변수로 데이터를 받아 처리 후 값을 돌려준다.  예: len('some_text'), sorted([19, 15, 23])\n",
    "\n",
    "\\- parameter 없고, return만 존재 :  딱히 받아야 할 데이터가 없고, 정해진 기능을 처리 후 값을 돌려준다.  예: time.time()\n",
    "\n",
    "\\- parameter만 있고, return 없음 :  데이터를 받아서 처리하지만 그 자체로 기능을 모두 수행하고 값을 돌려주지 않는다.  예: print('hello')\n",
    "\n",
    "\\- parameter & return 모두 없음 :  주어진 기능만 수행하면 충분한 함수. 데이터를 받지도 않고, 돌려주는 값도 없다.  예: quit(), 또는 some_list.sort()"
   ]
  },
  {
   "cell_type": "code",
   "execution_count": 3,
   "metadata": {},
   "outputs": [
    {
     "name": "stdout",
     "output_type": "stream",
     "text": [
      "[4, 5, 1]\n",
      "[1, 4, 5]\n",
      "1644283554.929339\n",
      "print() 함수는 화면에 출력만 하면 역할 끝. return 할 내용은 없어요.\n",
      "return이 있는지 없는지 확인하고 넘어가겠습니다. -> res1\n",
      "res1: None\n",
      "res2: None\n",
      "[2, 4, 5, 6]\n"
     ]
    }
   ],
   "source": [
    "# parameter & return 모두 존재하는 함수의 예: sorted()\n",
    "list_a = [4, 5, 1]\n",
    "list_b = sorted(list_a)\n",
    "\n",
    "print(list_a)   # 원본은 변하지 않았고\n",
    "print(list_b)   # return 된 리스트만 정렬되어 있습니다.\n",
    "\n",
    "\n",
    "# parameter는 없고 return만 존재하는 함수의 예:  time.time()\n",
    "import time\n",
    "now = time.time()   # 현재시간을 초 단위로 리턴 (값은 1970년 1월 1일 0시 0분 0초 이후 지금까지 경과한 초)\n",
    "                    # 항상 '현재시간'을 구하게끔 되어있어서 딱히 인자로 받을 것이 없음\n",
    "print(now)\n",
    "\n",
    "\n",
    "# parameter만 있고, return 없는 함수의 예:  print()\n",
    "print('print() 함수는 화면에 출력만 하면 역할 끝. return 할 내용은 없어요.')\n",
    "res1 = print('return이 있는지 없는지 확인하고 넘어가겠습니다. -> res1')\n",
    "print('res1:', res1)  # 무엇이 출력되나요?\n",
    "\n",
    "\n",
    "# parameter, return 둘 다 없는 함수의 예:  .sort()\n",
    "list_c = [5, 6, 2, 4]\n",
    "res2 = list_c.sort()    # 일단 parameter 없고\n",
    "print('res2:', res2)    # 어라, return도 없네??  왜 그럴까요? 이 함수의 역할은 무엇일까요?\n",
    "\n",
    "print(list_c)           # 아~ 리스트 원본을 바꾸면서 정렬했군요. 그럼 그 역할을 다 했으니 굳이 return할 필요가 없죠.\n",
    "                        # 여기서 .sort() 함수는 list 클래스에 정의된 함수입니다. 자세한 내용은 class에 가서 좀 더 다뤄보겠습니다.\n"
   ]
  },
  {
   "cell_type": "markdown",
   "metadata": {},
   "source": [
    "---\n",
    "### 문제 1\n",
    "\n",
    "다음은 실습예제 #1에서 실습한 정렬기능입니다. (bubble sort)\n"
   ]
  },
  {
   "cell_type": "code",
   "execution_count": 4,
   "metadata": {},
   "outputs": [
    {
     "name": "stdout",
     "output_type": "stream",
     "text": [
      "[4, 29, 41, 41, 49, 54, 56, 60, 70, 92]\n"
     ]
    }
   ],
   "source": [
    "# 정렬 알고리즘 예\n",
    "\n",
    "data_sample = [4, 29, 41, 92, 70, 60, 41, 54, 56, 49]\n",
    "\n",
    "for stage in range(len(data_sample) - 1):\n",
    "  for i in range(len(data_sample) - 1 - stage):\n",
    "    if data_sample[i] > data_sample[i+1]:\n",
    "      data_sample[i], data_sample[i+1] = data_sample[i+1], data_sample[i]\n",
    "\n",
    "print(data_sample)\n"
   ]
  },
  {
   "cell_type": "markdown",
   "metadata": {},
   "source": [
    "이 기능을 두 가지 버전의 함수로 만들어 보세요.\n",
    "\n",
    "1) 원본을 보존하는 버전\n",
    "\n",
    "2) 원본을 보존하지 않는 버전 (원본을 직접 수정하여 정렬)\n",
    "\n",
    "이 때 각각의 정렬함수는 어떤 종류의 함수로 만드는 것이 좋을까요?"
   ]
  },
  {
   "cell_type": "code",
   "execution_count": 5,
   "metadata": {},
   "outputs": [],
   "source": [
    "# 1) 원본을 보존하는 정렬함수\n",
    "def sort_to_new_list( ):\n",
    "    ...\n",
    "\n",
    "\n",
    "# 아래 두 리스트를 각각 정렬한 후, 원본과 결과를 출력해 보세요.\n",
    "data1 = [3, 5, 1, 2, 3]\n",
    "data2 = [1, 9, 8, 7, 4]\n",
    "\n"
   ]
  },
  {
   "cell_type": "code",
   "execution_count": 6,
   "metadata": {},
   "outputs": [],
   "source": [
    "# 2) 원본을 보존하지 않는 정렬함수 (직접 정렬)\n",
    "def direct_sort( ):\n",
    "    ...\n",
    "\n",
    "\n",
    "# 아래 두 리스트를 각각 정렬한 후, 원본과 결과를 출력해 보세요.\n",
    "data1 = [3, 5, 1, 2, 3]\n",
    "data2 = [1, 9, 8, 7, 4]\n",
    "\n"
   ]
  },
  {
   "cell_type": "markdown",
   "metadata": {},
   "source": [
    "### 연습 4. 매개변수의 갯수를 지정하지 않는 함수의 정의와 사용\n",
    "\n",
    "만약 함수를 정의할 때에 매개변수의 갯수를 모르는 경우 (바꿔 말하면 다양한 길이의 매개변수를 처리하고 싶은 경우)에는 어떻게 할까요?\n",
    "\n",
    "두 가지 방법이 있어요.\n",
    "\n",
    "1) 매개변수를 튜플이나 리스트로 모아서 받음\n",
    "\n",
    "2) 매개변수를 튜플로 받는건 동일하지만, 함수를 호출할 때는 냐열해서 호출하도록 처리\n",
    "\n",
    "이게 대체 뭔 얘기인지 모르겠다면 댜음의 예제를 보세요.\n"
   ]
  },
  {
   "cell_type": "code",
   "execution_count": 7,
   "metadata": {},
   "outputs": [
    {
     "name": "stdout",
     "output_type": "stream",
     "text": [
      "just\n",
      "a\n",
      "rather\n",
      "very\n",
      "intelligent\n",
      "system\n",
      "------------------------------\n",
      "just\n",
      "a\n",
      "rather\n",
      "very\n",
      "intelligent\n",
      "system\n"
     ]
    }
   ],
   "source": [
    "# 첫 번째 방법\n",
    "def print_elements_in_a_tuple(args):\n",
    "    for a in args:\n",
    "        print(a)\n",
    "        \n",
    "print_elements_in_a_tuple( ('just', 'a', 'rather', 'very', 'intelligent', 'system') )\n",
    "\n",
    "print('---' * 10)\n",
    "\n",
    "\n",
    "# 두 번째 방법\n",
    "def print_elements_in_params(*args):\n",
    "    for a in args:\n",
    "        print(a)\n",
    "        \n",
    "print_elements_in_params( 'just', 'a', 'rather', 'very', 'intelligent', 'system' )\n",
    "\n"
   ]
  },
  {
   "cell_type": "markdown",
   "metadata": {},
   "source": [
    "### 보너스 문제 1\n",
    "\n",
    "위에서 만든 정렬 함수를 *args 매개변수를 받는 버전으로 만들어 보세요.\n",
    "\n",
    "이 때에는 위의 두 버전(원본 보존 여부에 따른...)이 모두 유효할까요?"
   ]
  },
  {
   "cell_type": "code",
   "execution_count": 8,
   "metadata": {},
   "outputs": [
    {
     "name": "stdout",
     "output_type": "stream",
     "text": [
      "None\n"
     ]
    }
   ],
   "source": [
    "def sort_args(*args):\n",
    "    ...\n",
    "    \n",
    "\n",
    "\n",
    "res = sort_args(3, 1, 5, 9, 7)\n",
    "\n",
    "print(res)"
   ]
  },
  {
   "cell_type": "markdown",
   "metadata": {},
   "source": [
    "### 연습 5. 값이 지정된 매개변수의 사용 (default parameter)\n",
    "\n",
    "함수를 만들 때에 뭔가 추가적인 처리를 하고 싶은데 그 경우가 비교적 드문 경우가 있습니다.\n",
    "\n",
    "예를 들어서 \"성공\", \"실패\"를 출력하는 함수를 만드는데 대부분 \"성공\" 메시지를 출력하고 가끔 \"실패\"를 출력하고 싶다면?\n",
    "\n",
    "바꿔 말해서 아무것도 주어지지 않았을 때에는 \"성공\"을 출력하고 싶다면 어떻게 할까요?\n"
   ]
  },
  {
   "cell_type": "code",
   "execution_count": 9,
   "metadata": {},
   "outputs": [
    {
     "name": "stdout",
     "output_type": "stream",
     "text": [
      "성공!!\n",
      "성공!!\n",
      "실패ㅠㅠ\n",
      "성공!!\n",
      "성공!!\n"
     ]
    }
   ],
   "source": [
    "def log_result(success=True):\n",
    "    if success:\n",
    "        print(\"성공!!\")\n",
    "    else:\n",
    "        print(\"실패ㅠㅠ\")\n",
    "        \n",
    "\n",
    "log_result()\n",
    "log_result()\n",
    "log_result(False)\n",
    "log_result()\n",
    "log_result(True)\n"
   ]
  },
  {
   "cell_type": "markdown",
   "metadata": {},
   "source": [
    "### 보너스 문제 2\n",
    "\n",
    "문제 1에서 만든 정렬함수에 거꾸로 정렬하기 기능을 default parameter를 이용해 추가해 보세요.\n",
    "\n",
    "아무것도 지정하지 않았을 때에는 순방향 정렬이 되도록 하시면 됩니다.\n"
   ]
  },
  {
   "cell_type": "code",
   "execution_count": 10,
   "metadata": {},
   "outputs": [],
   "source": [
    "# 여기에 작성\n",
    "\n"
   ]
  },
  {
   "cell_type": "markdown",
   "metadata": {},
   "source": [
    "---\n",
    "\n",
    "여기까지 mid version\n",
    "\n",
    "---"
   ]
  },
  {
   "cell_type": "markdown",
   "metadata": {},
   "source": [
    "피아스페이스(주) All Rights Reserved.  \n",
    "\n",
    "https://www.pia-space.net"
   ]
  }
 ],
 "metadata": {
  "interpreter": {
   "hash": "0d50be85dbbb3a950a83e028b2b14e0765012909e66ca153f55ecc7c44cddb24"
  },
  "kernelspec": {
   "display_name": "Python 3.8.12 64-bit ('basic': conda)",
   "language": "python",
   "name": "python3"
  },
  "language_info": {
   "codemirror_mode": {
    "name": "ipython",
    "version": 3
   },
   "file_extension": ".py",
   "mimetype": "text/x-python",
   "name": "python",
   "nbconvert_exporter": "python",
   "pygments_lexer": "ipython3",
   "version": "3.8.12"
  },
  "orig_nbformat": 4
 },
 "nbformat": 4,
 "nbformat_minor": 2
}
