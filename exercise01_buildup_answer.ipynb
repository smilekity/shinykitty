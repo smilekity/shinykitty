{
 "cells": [
  {
   "cell_type": "markdown",
   "metadata": {},
   "source": [
    "# Python 실습예제 #1\n",
    "\n",
    "실습예제 #1번의 build-up 버전입니다.\n",
    "\n",
    "기초부터 시작해서 정렬 알고리즘까지 차근차근 배워보는 버전입니다."
   ]
  },
  {
   "cell_type": "markdown",
   "metadata": {},
   "source": [
    "### 연습 1. 리스트\n",
    "\n",
    "파이썬의 리스트는 대괄호를 이용해서 선언합니다."
   ]
  },
  {
   "cell_type": "code",
   "execution_count": 1,
   "metadata": {},
   "outputs": [
    {
     "name": "stdout",
     "output_type": "stream",
     "text": [
      "[]\n",
      "[3, 5, 7]\n",
      "['enjoy', 'python', 'life']\n",
      "['test', 42, '56', [3, 5, 7]]\n"
     ]
    }
   ],
   "source": [
    "a = []    # 비어있는 리스트\n",
    "b = [3, 5, 7]   # 숫자로 이루어진 리스트\n",
    "c = ['enjoy', 'python', 'life']   # 문자열로 이루어진 리스트\n",
    "\n",
    "d = ['test', 42, '56', b]   # 파이썬의 리스트는 서로 다른 종류를 마음대로 추가할 수 있어요. 심지어 다른 리스트도 넣을 수 있어요.\n",
    "\n",
    "# 출력해 봅시다.\n",
    "print(a)\n",
    "print(b)\n",
    "print(c)\n",
    "print(d)"
   ]
  },
  {
   "cell_type": "markdown",
   "metadata": {},
   "source": [
    "### 연습 2. 리스트의 길이\n",
    "\n",
    "리스트의 길이를 얻으려면 len() 함수를 사용합니다.\n",
    "\n",
    "위에서 정의한 리스트 a, b, c, d의 길이를 구해봅시다.\n",
    "\n",
    "주의:  d의 길이는 얼마일까요?  4일까요, 6일까요?"
   ]
  },
  {
   "cell_type": "code",
   "execution_count": 2,
   "metadata": {},
   "outputs": [
    {
     "name": "stdout",
     "output_type": "stream",
     "text": [
      "a의 길이: 0\n",
      "b의 길이: 3\n",
      "c의 길이: 3\n",
      "d의 길이: 4\n"
     ]
    }
   ],
   "source": [
    "print('a의 길이:', len(a))\n",
    "print('b의 길이:', len(b))\n",
    "print('c의 길이:', len(c))\n",
    "print('d의 길이:', len(d))    # 리스트 안에 리스트가 있는 경우, 그냥 1개로 셉니다."
   ]
  },
  {
   "cell_type": "markdown",
   "metadata": {},
   "source": [
    "### 연습 3. 리스트 인덱싱\n",
    "\n",
    "리스트의 각 원소에 접근하는 방법은 b[0] 과 같이 배열의 변수 뒤에 대괄호, 숫자(인덱스)를 사용합니다.\n",
    "\n",
    "인덱스는 0부터 시작이죠.\n",
    "\n",
    "인덱스에서 음수를 사용하여 뒤에서부터 가져오는 방법도 있어요. 예를 들어 -1은 맨 마지막을, -2는 마지막에서 두번째를 가져옵니다.\n",
    "\n",
    "그리고 할당연산자(=)의 왼쪽에 사용하여 배열의 특정 값을 바꿀 수도 있어요."
   ]
  },
  {
   "cell_type": "code",
   "execution_count": 3,
   "metadata": {},
   "outputs": [
    {
     "name": "stdout",
     "output_type": "stream",
     "text": [
      "3\n",
      "7\n",
      "7\n",
      "3000\n",
      "[3000, 5, 7]\n"
     ]
    }
   ],
   "source": [
    "print(b[0])\n",
    "print(b[2])\n",
    "print(b[-1])\n",
    "\n",
    "b[0] = 3000\n",
    "\n",
    "print(b[0])\n",
    "print(b)"
   ]
  },
  {
   "cell_type": "markdown",
   "metadata": {},
   "source": [
    "### 연습 4. 리스트에 요소가 있는지 없는지 알아보기\n",
    "\n",
    "리스트에 특정 요소가 있는지 알아보려면 in 연산자를 이용하면 됩니다.\n",
    "\n",
    "Q1)  (3 in b) 는 참일까요? 거짓일까요?\n",
    "\n",
    "Q2)  ('python' in c) 는요?\n",
    "\n",
    "Q3)  ('life' in c) 가 참일 때에 뭔가 출력하는 코드를 작성해 봅시다."
   ]
  },
  {
   "cell_type": "code",
   "execution_count": 4,
   "metadata": {},
   "outputs": [
    {
     "name": "stdout",
     "output_type": "stream",
     "text": [
      "False\n",
      "True\n",
      "Life is beautiful!\n"
     ]
    }
   ],
   "source": [
    "# A1\n",
    "print(3 in b)\n",
    "\n",
    "# A2\n",
    "print('python' in c)\n",
    "\n",
    "# A3\n",
    "if 'life' in c:\n",
    "  print('Life is beautiful!')\n"
   ]
  },
  {
   "cell_type": "markdown",
   "metadata": {},
   "source": [
    "### 연습 5. 리스트 요소 반복\n",
    "\n",
    "리스트에 있는 요소들을 하나씩 조회해서 작업을 수행하려면 for 반복문을 사용하면 됩니다.\n",
    "\n",
    "for element in some_list:    <-- 이렇게 하면 some_list의 요소들이 차례로 element에 대입되면서 반복이 되죠.\n",
    "\n",
    "\n",
    "리스트의 길이를 이용해서 반복시키는 방법도 있어요.\n",
    "\n",
    "이 때에는 길이를 알아내는 len() 함수와, 주어진 갯수만큼 반복자를 만들어주는 range() 함수를 같이 사용합니다."
   ]
  },
  {
   "cell_type": "code",
   "execution_count": 5,
   "metadata": {},
   "outputs": [
    {
     "name": "stdout",
     "output_type": "stream",
     "text": [
      "enjoy\n",
      "python\n",
      "life\n",
      "0 enjoy\n",
      "1 python\n",
      "2 life\n"
     ]
    }
   ],
   "source": [
    "for word in c:\n",
    "  print(word)\n",
    "\n",
    "\n",
    "for i in range(len(c)):\n",
    "  print(i, c[i])"
   ]
  },
  {
   "cell_type": "markdown",
   "metadata": {},
   "source": [
    "### 연습 6. 리스트에 요소 추가하기\n",
    "\n",
    "리스트에 새로운 요소를 추가하려면 append() 함수를 사용하면 됩니다.\n",
    "\n",
    "리스트 전용 함수이므로 리스트 변수를 사용해서 호출해야 해요.\n",
    "\n",
    "some_list.append(something)  이렇게 말이지요.\n",
    "\n",
    "그러면 리스트의 맨 마지막에 새로운 요소가 추가되죠.\n",
    "\n",
    "\n",
    "Q1)  0 ~ 49 까지의 정수 중에 3의 배수 (3으로 나눈 나머지가 0인 수)만 추가하는 코드를 작성해 봅시다."
   ]
  },
  {
   "cell_type": "code",
   "execution_count": 6,
   "metadata": {},
   "outputs": [
    {
     "name": "stdout",
     "output_type": "stream",
     "text": [
      "[3000, 5, 7]\n",
      "[3000, 5, 7, 100]\n",
      "[0, 3, 6, 9, 12, 15, 18, 21, 24, 27, 30, 33, 36, 39, 42, 45, 48]\n"
     ]
    }
   ],
   "source": [
    "print(b)\n",
    "b.append(100)\n",
    "print(b)\n",
    "\n",
    "# A1\n",
    "mylist = []\n",
    "for number in range(50):\n",
    "  if number % 3 == 0:\n",
    "    mylist.append(number)\n",
    "    \n",
    "print(mylist)"
   ]
  },
  {
   "cell_type": "markdown",
   "metadata": {},
   "source": [
    "### 문제 1\n",
    "\n",
    "반복문과 조건문을 사용해서 리스트의 중복을 제거해 보세요.\n",
    "\n",
    "아래 주어진 data1 리스트에는 0 ~ 100 사이의 숫자가 랜덤하게 50개 들어있어요. 중복된 것도 있습니다.\n",
    "\n",
    "지금까지 연습한 내용을 사용해서 중복을 제거해 보세요.\n",
    "\n",
    "힌트:  새로운 비어있는 리스트를 하나 만들어서 중복되지 않게 요소를 추가해 봅시다."
   ]
  },
  {
   "cell_type": "code",
   "execution_count": 8,
   "metadata": {},
   "outputs": [
    {
     "name": "stdout",
     "output_type": "stream",
     "text": [
      "[4, 29, 41, 92, 70, 60, 43, 54, 56, 49, 77, 10, 14, 46, 52, 20, 40, 64, 93, 0, 91, 59, 89, 11, 75, 50, 16, 97, 55, 32, 1, 7, 36, 13, 19, 96, 88, 26, 2, 63, 44]\n"
     ]
    }
   ],
   "source": [
    "data1 = [4, 29, 41, 92, 70, 60, 43, 54, 56, 49, 77, 10, 14, 46, 52, 20, 40, 64, 93, 70, 0, 91, 20, 59, 54,\n",
    "         93, 46, 89, 11, 75, 50, 16, 97, 55, 11, 32, 1, 7, 36, 55, 13, 19, 89, 96, 88, 14, 26, 2, 63, 44]\n",
    "\n",
    "data1_unique = []\n",
    "\n",
    "# 여기에 작성\n",
    "for d in data1:\n",
    "  if d not in data1_unique:\n",
    "    data1_unique.append(d)\n",
    "\n",
    "\n",
    "print(data1_unique)"
   ]
  },
  {
   "cell_type": "markdown",
   "metadata": {},
   "source": [
    "### 보너스 문제 1:  파이썬으로 369 를\n",
    "\n",
    "1 ~ 100 까지 '3', '6', '9' 게임을 해 보아요.\n",
    "\n",
    "출력예:  1, 2, 짝, 4, 5, 짝, 7, 8, 짝, 10, 11, 12, 짝, ...\n",
    "\n",
    "힌트:  규칙을 숫자로 다루려면 쉽지 않아요. 3의 배수도 아니고... 33은 박수 두 번 쳐야 하고요.\n",
    "\n",
    "문자로 바꾸어 '3', '6', '9'의 개수를 세어 봅시다.\n",
    "\n",
    "숫자를 문자열로 바꾸려면 str() 함수를 쓰면 되고, 특정 글자의 개수를 세려면 문자열.count() 함수가 있죠.\n"
   ]
  },
  {
   "cell_type": "code",
   "execution_count": 13,
   "metadata": {},
   "outputs": [
    {
     "name": "stdout",
     "output_type": "stream",
     "text": [
      "16 <class 'int'>\n",
      "16 <class 'str'>\n",
      "0\n",
      "1\n",
      "369 시작!\n",
      "1, 2, 짝, 4, 5, 짝, 7, 8, 짝, 10, 11, 12, 짝, 14, 15, 짝, 17, 18, 짝, 20, 21, 22, 짝, 24, 25, 짝, 27, 28, 짝, 짝, 짝, 짝, 짝짝, 짝, 짝, 짝짝, 짝, 짝, 짝짝, 40, 41, 42, 짝, 44, 45, 짝, 47, 48, 짝, 50, 51, 52, 짝, 54, 55, 짝, 57, 58, 짝, 짝, 짝, 짝, 짝짝, 짝, 짝, 짝짝, 짝, 짝, 짝짝, 70, 71, 72, 짝, 74, 75, 짝, 77, 78, 짝, 80, 81, 82, 짝, 84, 85, 짝, 87, 88, 짝, 짝, 짝, 짝, 짝짝, 짝, 짝, 짝짝, 짝, 짝, 짝짝, 100\n"
     ]
    }
   ],
   "source": [
    "# 숫자를 문자로 바꾸기\n",
    "num = 16\n",
    "txt = str(num)\n",
    "print(num, type(num))\n",
    "print(txt, type(txt))\n",
    "\n",
    "# 문자열에서 글자 수 세기\n",
    "print(txt.count('3'))\n",
    "print(txt.count('6'))\n",
    "\n",
    "\n",
    "# 1부터 100까지의 수로 369 하기\n",
    "print('369 시작!')\n",
    "\n",
    "tsn_list = []\n",
    "\n",
    "for num in range(1, 101):\n",
    "  numtxt = str(num)\n",
    "  threes = numtxt.count('3')\n",
    "  sixes = numtxt.count('6')\n",
    "  nines = numtxt.count('9')\n",
    "  if threes + sixes + nines > 0:\n",
    "    tsn_list.append(\"짝\" * (threes + sixes + nines))\n",
    "  else:\n",
    "    tsn_list.append(numtxt)\n",
    "\n",
    "print(', '.join(tsn_list))\n"
   ]
  },
  {
   "cell_type": "markdown",
   "metadata": {},
   "source": [
    "### 연습 7. 변수의 값을 서로 바꾸기\n",
    "\n",
    "아래와 같이 두 수가 주어졌을 때,\n",
    "\n",
    "a = 2\n",
    "\n",
    "b = 8\n",
    "\n",
    "값을 서로 바꾸려면 어떻게 해야 할까요?\n",
    "\n",
    "파이썬은 코드 한 줄이면 됩니다.\n",
    "\n",
    "a, b = b, a\n",
    "\n",
    "\n",
    "Q1) 주어진 n1, n2의 크기를 비교해서  n1이 작은 수, n2가 큰 수가 되게 만들어 보세요."
   ]
  },
  {
   "cell_type": "code",
   "execution_count": 14,
   "metadata": {},
   "outputs": [
    {
     "name": "stdout",
     "output_type": "stream",
     "text": [
      "15 3\n",
      "3 15\n"
     ]
    }
   ],
   "source": [
    "n1 = 15\n",
    "n2 = 3\n",
    "print(n1, n2)\n",
    "\n",
    "# A1)\n",
    "if n1 > n2:\n",
    "  n1, n2 = n2, n1\n",
    "\n",
    "print(n1, n2)"
   ]
  },
  {
   "cell_type": "markdown",
   "metadata": {},
   "source": [
    "### 연습 8. 리스트에서 바꾸기\n",
    "\n",
    "리스트 안의 요소끼리 값을 바꾸는 것도 같은 방식입니다.\n"
   ]
  },
  {
   "cell_type": "code",
   "execution_count": 15,
   "metadata": {},
   "outputs": [
    {
     "name": "stdout",
     "output_type": "stream",
     "text": [
      "[5, 3, 1]\n",
      "[3, 5, 1]\n"
     ]
    }
   ],
   "source": [
    "a = [5, 3, 1]\n",
    "print(a)\n",
    "\n",
    "a[0], a[1] = a[1], a[0]\n",
    "print(a)"
   ]
  },
  {
   "cell_type": "markdown",
   "metadata": {},
   "source": [
    "### 연습 9. 정렬의 중간 과정\n",
    "\n",
    "숫자를 정렬하는 방법 중에 버블 정렬 (bubble sort)이 있습니다.\n",
    "\n",
    "인접한 두 숫자끼리 비교해서 자리를 바꾸는 방식인데, 리스트의 처음부터 끝까지 한 번 반복하면 어떻게 될까요?\n",
    "\n",
    "원소의 개수가 다섯 개인 짧은 리스트로 실험해 봅시다."
   ]
  },
  {
   "cell_type": "code",
   "execution_count": 16,
   "metadata": {},
   "outputs": [
    {
     "name": "stdout",
     "output_type": "stream",
     "text": [
      "[4, 7, 2, 5, 1]\n",
      "[4, 2, 5, 1, 7]\n"
     ]
    }
   ],
   "source": [
    "short_list = [4, 7, 2, 5, 1]\n",
    "print(short_list)\n",
    "\n",
    "n = len(short_list)\n",
    "\n",
    "for i in range(n - 1):    # 왜 n-1일까요?  n을 넣으면 어떻게 될까요?\n",
    "  if short_list[i] > short_list[i+1]:\n",
    "    short_list[i], short_list[i+1] = short_list[i+1], short_list[i]\n",
    "    \n",
    "print(short_list)"
   ]
  },
  {
   "cell_type": "markdown",
   "metadata": {},
   "source": [
    "네, 한 번 반복하면 가장 큰 수가 리스트의 맨 마지막에 위치하게 됩니다.\n",
    "\n",
    "그럼 이걸 몇 번 반복하면 전체 정렬이 될까요?\n",
    "\n",
    "5번?  4번??  잘 생각해 보세요.\n",
    "\n",
    "이제 진짜로 문제 나갑니다."
   ]
  },
  {
   "cell_type": "markdown",
   "metadata": {},
   "source": [
    "### 문제 2\n",
    "\n",
    "Bubble Sort 알고리즘을 이용해서 전체 리스트를 정렬해 보세요.\n"
   ]
  },
  {
   "cell_type": "code",
   "execution_count": 18,
   "metadata": {},
   "outputs": [
    {
     "name": "stdout",
     "output_type": "stream",
     "text": [
      "[0, 1, 2, 4, 7, 10, 11, 11, 13, 14, 14, 16, 19, 20, 20, 26, 29, 32, 36, 40, 41, 43, 44, 46, 46, 49, 50, 52, 54, 54, 55, 55, 56, 59, 60, 63, 64, 70, 70, 75, 77, 88, 89, 89, 91, 92, 93, 93, 96, 97]\n"
     ]
    }
   ],
   "source": [
    "data1 = [4, 29, 41, 92, 70, 60, 43, 54, 56, 49, 77, 10, 14, 46, 52, 20, 40, 64, 93, 70, 0, 91, 20, 59, 54,\n",
    "         93, 46, 89, 11, 75, 50, 16, 97, 55, 11, 32, 1, 7, 36, 55, 13, 19, 89, 96, 88, 14, 26, 2, 63, 44]\n",
    "\n",
    "# 원본을 유지하기 위해 복사해서 쓰자\n",
    "dc = data1.copy()\n",
    "\n",
    "# 여기에 작성 (dc 정렬하기)\n",
    "for stage in range(len(dc) - 1):\n",
    "  for i in range(len(dc) - 1 - stage):\n",
    "    if dc[i] > dc[i+1]:\n",
    "      dc[i], dc[i+1] = dc[i+1], dc[i]\n",
    "\n",
    "\n",
    "print(dc)"
   ]
  },
  {
   "cell_type": "markdown",
   "metadata": {},
   "source": [
    "### 보너스 문제 2\n",
    "\n",
    "정렬 알고리즘은 Bubble Sort 말고도 아주 많이 있습니다.\n",
    "\n",
    "다른 방법으로도 정렬을 시도해 보세요.\n",
    "\n",
    "예: Selection Sort, Insertion Sort, Merge Sort, Quick Sort 등등"
   ]
  },
  {
   "cell_type": "code",
   "execution_count": 19,
   "metadata": {},
   "outputs": [
    {
     "name": "stdout",
     "output_type": "stream",
     "text": [
      "[0, 1, 2, 4, 7, 10, 11, 11, 13, 14, 14, 16, 19, 20, 20, 26, 29, 32, 36, 40, 41, 43, 44, 46, 46, 49, 50, 52, 54, 54, 55, 55, 56, 59, 60, 63, 64, 70, 70, 75, 77, 88, 89, 89, 91, 92, 93, 93, 96, 97]\n"
     ]
    }
   ],
   "source": [
    "# 다시 복사 (정렬 안된 리스트)\n",
    "dc = data1.copy()\n",
    "\n",
    "\n",
    "# 예: Selection Sort\n",
    "for i in range(len(dc) - 1):\n",
    "  least = i\n",
    "  for j in range(i + 1, len(dc)):\n",
    "    if dc[j] < dc[least]:\n",
    "      least = j\n",
    "      \n",
    "  if least != i:\n",
    "    dc[i], dc[least] = dc[least], dc[i]\n",
    "\n",
    "\n",
    "print(dc)"
   ]
  },
  {
   "cell_type": "markdown",
   "metadata": {},
   "source": [
    "### 연습 10. 문자열 정렬\n",
    "\n",
    "숫자만 정렬 가능한 것이 아니죠.\n",
    "\n",
    "크기 비교가 가능한 것은 모두 정렬할 수 있어요.\n",
    "\n",
    "문자열은 크기 비교를 하면 어떻게 될까요?\n",
    "\n",
    "네, 가나다 순 또는 ABC 순으로 정렬이 됩니다."
   ]
  },
  {
   "cell_type": "code",
   "execution_count": 20,
   "metadata": {},
   "outputs": [
    {
     "name": "stdout",
     "output_type": "stream",
     "text": [
      "['agonizing', 'announce', 'argument', 'arrange', 'avoid', 'beautiful', 'bone', 'bridge', 'bulb', 'business', 'butter', 'claim', 'clover', 'crime', 'daily', 'escape', 'growth', 'homely', 'humor', 'icky', 'immense', 'impartial', 'invincible', 'irate', 'knock', 'knowledgeable', 'letters', 'light', 'locket', 'mitten', 'noxious', 'overflow', 'panoramic', 'part', 'perfect', 'phobic', 'quarrelsome', 'rhetorical', 'satisfying', 'shake', 'space', 'strange', 'structure', 'subtract', 'switch', 'tease', 'throne', 'ticket', 'truculent', 'vessel']\n"
     ]
    }
   ],
   "source": [
    "data2 = ['business', 'switch', 'letters', 'agonizing', 'irate', 'strange', 'light', 'bone', 'clover', 'locket',\n",
    "         'knock', 'part', 'throne', 'announce', 'mitten', 'claim', 'impartial', 'structure', 'vessel', 'homely',\n",
    "         'arrange', 'ticket', 'growth', 'quarrelsome', 'satisfying', 'avoid', 'panoramic', 'perfect', 'beautiful', 'escape',\n",
    "         'daily', 'subtract', 'knowledgeable', 'argument', 'butter', 'invincible', 'rhetorical', 'overflow', 'humor', 'tease',\n",
    "         'noxious', 'crime', 'truculent', 'shake', 'bridge', 'bulb', 'phobic', 'icky', 'immense', 'space']\n",
    "\n",
    "# 이번엔 data2를 복사\n",
    "dc = data2.copy()\n",
    "\n",
    "\n",
    "# 문제 2에서 작성한 정렬 코드를 여기에 복사해 보세요.\n",
    "for stage in range(len(dc) - 1):\n",
    "  for i in range(len(dc) - 1 - stage):\n",
    "    if dc[i] > dc[i+1]:\n",
    "      dc[i], dc[i+1] = dc[i+1], dc[i]\n",
    "\n",
    "\n",
    "# 어떻게 정렬이 됐을까요?\n",
    "print(dc)"
   ]
  },
  {
   "cell_type": "markdown",
   "metadata": {},
   "source": [
    "### 연습 11. 문자열의 길이로 정렬해 보기\n",
    "\n",
    "알파벳 순서가 아니라 단어의 길이가 짧은 것부터 긴 것의 순서로 정렬해 보세요.\n",
    "\n",
    "힌트: 문자열의 길이 또한 len() 함수를 통해 알아낼 수 있어요."
   ]
  },
  {
   "cell_type": "code",
   "execution_count": 22,
   "metadata": {},
   "outputs": [
    {
     "name": "stdout",
     "output_type": "stream",
     "text": [
      "['bone', 'part', 'bulb', 'icky', 'irate', 'light', 'knock', 'claim', 'avoid', 'daily', 'humor', 'tease', 'crime', 'shake', 'space', 'switch', 'clover', 'locket', 'throne', 'mitten', 'vessel', 'homely', 'ticket', 'growth', 'escape', 'butter', 'bridge', 'phobic', 'letters', 'strange', 'arrange', 'perfect', 'noxious', 'immense', 'business', 'announce', 'subtract', 'argument', 'overflow', 'agonizing', 'impartial', 'structure', 'panoramic', 'beautiful', 'truculent', 'satisfying', 'invincible', 'rhetorical', 'quarrelsome', 'knowledgeable']\n"
     ]
    }
   ],
   "source": [
    "# 다시 data2를 복사\n",
    "dc = data2.copy()\n",
    "\n",
    "\n",
    "# 단어의 길이로 정렬해 보세요.  (짧은 것 -> 긴 것의 순서로)\n",
    "for stage in range(len(dc) - 1):\n",
    "  for i in range(len(dc) - 1 - stage):\n",
    "    if len(dc[i]) > len(dc[i+1]):\n",
    "      dc[i], dc[i+1] = dc[i+1], dc[i]\n",
    "\n",
    "\n",
    "print(dc)"
   ]
  },
  {
   "cell_type": "markdown",
   "metadata": {},
   "source": [
    "### 연습 12. 복수의 조건으로 비교하기\n",
    "\n",
    "두 개 이상의 조건으로 정렬하려면 어떻게 할까요?\n",
    "\n",
    "예를 들어, \"문자열의 길이를 기준으로 정렬하되, 길이가 같으면 알파벳 순으로 정렬하라\"와 같은 문제가 주어진다면?\n",
    "\n",
    "물론 if, elif, else 문으로도 해결 가능합니다.\n",
    "\n",
    "하지만 파이썬은 더 간단한 방법이 있어요.\n",
    "\n",
    "리스트 또는 튜플을 사용하면 각각의 원소끼리 비교가 되므로 여러 조건으로 비교가 가능합니다.\n",
    "\n",
    "우선순위가 높은 조건을 앞쪽에 써주면 됩니다.\n",
    "\n",
    "예를 들어 볼까요?"
   ]
  },
  {
   "cell_type": "code",
   "execution_count": 23,
   "metadata": {},
   "outputs": [
    {
     "name": "stdout",
     "output_type": "stream",
     "text": [
      "1: True\n",
      "2: True\n",
      "3: False\n",
      "4: True\n"
     ]
    }
   ],
   "source": [
    "print('1:', (3, 5) < (3, 6) )     # 첫 번째 값들은 3으로 같음 -> 두 번째 값을 기준으로 비교하면 5 < 6 참이 됨\n",
    "\n",
    "print('2:', (3, 'kbc') < (7, 'amazone') )   # 첫 번째 값 비교에서 3 < 7 이므로 바로 참이 됨.  두 번째 값은 비교할 필요 없음\n",
    "\n",
    "\n",
    "# 두 문자열의 길이순, 알파벳순 차례로 비교\n",
    "a = 'aaa'\n",
    "b = 'bb'\n",
    "\n",
    "print('3:', (len(a), a) < (len(b), b) )     # 첫 번째 값을 비교하면 3 > 2 이므로 바로 거짓이 됨.  두 번째 값은 비교할 필요 없음\n",
    "\n",
    "print('4:', (a, len(a)) < (b, len(b)) )     # 첫 번째 값을 비교하면 'aaa' < 'bb' 이므로 바로 참이 됨.  두 번째 값은 비교할 필요 없음"
   ]
  },
  {
   "cell_type": "markdown",
   "metadata": {},
   "source": [
    "### 문제 3\n",
    "\n",
    "이어서 진짜 문제 나갑니다.\n",
    "\n",
    "아래의 조건으로 문자열을 정렬해 보시오.\n",
    "\n",
    "- 조건1: 문자열의 길이가 긴 것에서 짧은 순서로\n",
    "- 조건2: 문자열의 길이가 같은 경우, abc 순으로\n",
    "\n",
    "유의사항: 조건1과 조건2의 순서가 다릅니다.\n",
    "\n",
    "힌트: 튜플에 약간의 변화만 주면 됩니다. len() 함수로 나오는 것은 숫자라는 것을 이용해 보세요."
   ]
  },
  {
   "cell_type": "code",
   "execution_count": 24,
   "metadata": {},
   "outputs": [
    {
     "name": "stdout",
     "output_type": "stream",
     "text": [
      "['knowledgeable', 'quarrelsome', 'invincible', 'rhetorical', 'satisfying', 'agonizing', 'beautiful', 'impartial', 'panoramic', 'structure', 'truculent', 'announce', 'argument', 'business', 'overflow', 'subtract', 'arrange', 'immense', 'letters', 'noxious', 'perfect', 'strange', 'bridge', 'butter', 'clover', 'escape', 'growth', 'homely', 'locket', 'mitten', 'phobic', 'switch', 'throne', 'ticket', 'vessel', 'avoid', 'claim', 'crime', 'daily', 'humor', 'irate', 'knock', 'light', 'shake', 'space', 'tease', 'bone', 'bulb', 'icky', 'part']\n"
     ]
    }
   ],
   "source": [
    "# 다시 data2를 복사\n",
    "dc = data2.copy()\n",
    "\n",
    "\n",
    "# 단어의 길이의 역순과 알파벳 순서로 정렬하세요. (긴 것 -> 짧은 것의 순서, 길이가 같으면 알파벳 순서)\n",
    "for stage in range(len(dc) - 1):\n",
    "  for i in range(len(dc) - 1 - stage):\n",
    "    if (-len(dc[i]), dc[i]) > (-len(dc[i+1]), dc[i+1]):\n",
    "      dc[i], dc[i+1] = dc[i+1], dc[i]\n",
    "\n",
    "\n",
    "print(dc)"
   ]
  },
  {
   "cell_type": "markdown",
   "metadata": {},
   "source": [
    "\n",
    "여기까지 실습 예제 #1이 완료되었습니다!\n",
    "\n",
    "3개의 본 문제를 다 해결하셨으면 중간에 나왔던 보너스 문제도 풀어보세요. 모르는 것은 Slack에 질문 남겨 주세요.\n",
    "\n",
    "아래에 참고하기도 확인해 보세요. 실전에선 아래 방법을 많이 사용합니다."
   ]
  },
  {
   "cell_type": "markdown",
   "metadata": {},
   "source": [
    "---\n"
   ]
  },
  {
   "cell_type": "markdown",
   "metadata": {},
   "source": [
    "### 참고하기 1.  간편 중복제거\n",
    "\n",
    "문제1 중복 제거하기를 다른 방법으로도 해결할 수 있어요.\n",
    "\n",
    "파이썬의 집합(set)을 이용하는 방법이 있죠.\n",
    "\n",
    "set은 파이썬이 제공하는 '중복을 허용하지 않는' 자료구조라서 list를 set으로 변환하면 자연스럽게 중복이 제거됩니다.\n",
    "\n",
    "list -> set -> list로 바꾸어서 중복을 제거한 리스트를 얻을 수 있어요.\n",
    "\n",
    "정렬도 자동으로 되는 것처럼 보이지만 set은 정렬을 보장하진 않아요."
   ]
  },
  {
   "cell_type": "code",
   "execution_count": 25,
   "metadata": {},
   "outputs": [
    {
     "name": "stdout",
     "output_type": "stream",
     "text": [
      "[4, 29, 41, 92, 70, 60, 43, 54, 56, 49, 77, 10, 14, 46, 52, 20, 40, 64, 93, 70, 0, 91, 20, 59, 54, 93, 46, 89, 11, 75, 50, 16, 97, 55, 11, 32, 1, 7, 36, 55, 13, 19, 89, 96, 88, 14, 26, 2, 63, 44]\n",
      "[0, 1, 2, 4, 7, 10, 11, 13, 14, 16, 19, 20, 26, 29, 32, 36, 40, 41, 43, 44, 46, 49, 50, 52, 54, 55, 56, 59, 60, 63, 64, 70, 75, 77, 88, 89, 91, 92, 93, 96, 97]\n"
     ]
    }
   ],
   "source": [
    "print(data1)\n",
    "\n",
    "data1_unique = list(set(data1))\n",
    "\n",
    "print(data1_unique)"
   ]
  },
  {
   "cell_type": "markdown",
   "metadata": {},
   "source": [
    "### 참고하기 2. 정렬함수 이용\n",
    "\n",
    "문제2의 정렬은 프로그래밍 연습을 위해 직접 정렬 알고리즘을 작성해 봤습니다.\n",
    "\n",
    "실전에서는 파이썬이 이미 잘 구현해 놓은 정렬 함수를 이용하는게 제일 간편하기도 하고, 최적화된 성능도 보장해 줍니다.\n",
    "\n",
    "두 가지 방법이 있는데 내장함수 sorted()와 리스트의 sort() 함수예요.\n",
    "\n",
    "둘 사이에 차이가 있어요. 사용법을 볼까요?"
   ]
  },
  {
   "cell_type": "code",
   "execution_count": 26,
   "metadata": {},
   "outputs": [
    {
     "name": "stdout",
     "output_type": "stream",
     "text": [
      "=== before sort ===\n",
      "data1: [4, 29, 41, 92, 70, 60, 43, 54, 56, 49, 77, 10, 14, 46, 52, 20, 40, 64, 93, 70, 0, 91, 20, 59, 54, 93, 46, 89, 11, 75, 50, 16, 97, 55, 11, 32, 1, 7, 36, 55, 13, 19, 89, 96, 88, 14, 26, 2, 63, 44]\n",
      "\n",
      "=== after sorted(data1) ===\n",
      "data1: [4, 29, 41, 92, 70, 60, 43, 54, 56, 49, 77, 10, 14, 46, 52, 20, 40, 64, 93, 70, 0, 91, 20, 59, 54, 93, 46, 89, 11, 75, 50, 16, 97, 55, 11, 32, 1, 7, 36, 55, 13, 19, 89, 96, 88, 14, 26, 2, 63, 44]\n",
      "data1_sorted: [0, 1, 2, 4, 7, 10, 11, 11, 13, 14, 14, 16, 19, 20, 20, 26, 29, 32, 36, 40, 41, 43, 44, 46, 46, 49, 50, 52, 54, 54, 55, 55, 56, 59, 60, 63, 64, 70, 70, 75, 77, 88, 89, 89, 91, 92, 93, 93, 96, 97]\n",
      "\n",
      "=== after data1.sort() ===\n",
      "data1: [0, 1, 2, 4, 7, 10, 11, 11, 13, 14, 14, 16, 19, 20, 20, 26, 29, 32, 36, 40, 41, 43, 44, 46, 46, 49, 50, 52, 54, 54, 55, 55, 56, 59, 60, 63, 64, 70, 70, 75, 77, 88, 89, 89, 91, 92, 93, 93, 96, 97]\n"
     ]
    }
   ],
   "source": [
    "data1 = [4, 29, 41, 92, 70, 60, 43, 54, 56, 49, 77, 10, 14, 46, 52, 20, 40, 64, 93, 70, 0, 91, 20, 59, 54,\n",
    "         93, 46, 89, 11, 75, 50, 16, 97, 55, 11, 32, 1, 7, 36, 55, 13, 19, 89, 96, 88, 14, 26, 2, 63, 44]\n",
    "\n",
    "# 정렬 전\n",
    "print('=== before sort ===')\n",
    "print('data1:', data1)\n",
    "print()\n",
    "\n",
    "# sorted() 함수로 정렬하기:  원본은 그대로 유지되고, 정렬된 새로운 리스트를 반환합니다.\n",
    "data1_sorted = sorted(data1)\n",
    "print('=== after sorted(data1) ===')\n",
    "print('data1:', data1)\n",
    "print('data1_sorted:', data1_sorted)\n",
    "print()\n",
    "\n",
    "# .sort() 함수로 정렬하기:  원본을 직접 정렬합니다.  (리스트의 멤버 함수이므로 리스트 변수.sort() 형태로 사용)\n",
    "data1.sort()\n",
    "print('=== after data1.sort() ===')\n",
    "print('data1:', data1)\n"
   ]
  },
  {
   "cell_type": "markdown",
   "metadata": {},
   "source": [
    "### 참고하기 3. 역순으로 정렬하기\n",
    "\n",
    "sorted() 함수,  리스트.sort() 함수 모두 reversed 파라메터가 있어서, reversed=True 인자를 전달하면 됩니다. "
   ]
  },
  {
   "cell_type": "code",
   "execution_count": 27,
   "metadata": {},
   "outputs": [
    {
     "name": "stdout",
     "output_type": "stream",
     "text": [
      "data1_sorted: [97, 96, 93, 93, 92, 91, 89, 89, 88, 77, 75, 70, 70, 64, 63, 60, 59, 56, 55, 55, 54, 54, 52, 50, 49, 46, 46, 44, 43, 41, 40, 36, 32, 29, 26, 20, 20, 19, 16, 14, 14, 13, 11, 11, 10, 7, 4, 2, 1, 0]\n",
      "data1: [97, 96, 93, 93, 92, 91, 89, 89, 88, 77, 75, 70, 70, 64, 63, 60, 59, 56, 55, 55, 54, 54, 52, 50, 49, 46, 46, 44, 43, 41, 40, 36, 32, 29, 26, 20, 20, 19, 16, 14, 14, 13, 11, 11, 10, 7, 4, 2, 1, 0]\n"
     ]
    }
   ],
   "source": [
    "data1 = [4, 29, 41, 92, 70, 60, 43, 54, 56, 49, 77, 10, 14, 46, 52, 20, 40, 64, 93, 70, 0, 91, 20, 59, 54,\n",
    "         93, 46, 89, 11, 75, 50, 16, 97, 55, 11, 32, 1, 7, 36, 55, 13, 19, 89, 96, 88, 14, 26, 2, 63, 44]\n",
    "\n",
    "data1_sorted = sorted(data1, reverse=True)\n",
    "print('data1_sorted:', data1_sorted)\n",
    "\n",
    "data1.sort(reverse=True)\n",
    "print('data1:', data1)"
   ]
  },
  {
   "cell_type": "markdown",
   "metadata": {},
   "source": [
    "### 참고하기 4. 커스텀 정렬하기\n",
    "\n",
    "문제 3의 경우와 같이 복잡한 정렬은 어떻게 하면 될까요? \n",
    "\n",
    "사용자 정의 조건은 key= 파라메터를 이용하면 되는데, 여기엔 함수를 전달해야 해요.\n",
    "\n",
    "1회성의 익명함수인 람다를 이용해 보겠습니다. 2개의 원소를 갖는 튜플로 비교했기 때문에 쉽게 적용 가능해요."
   ]
  },
  {
   "cell_type": "code",
   "execution_count": 28,
   "metadata": {},
   "outputs": [
    {
     "name": "stdout",
     "output_type": "stream",
     "text": [
      "['knowledgeable', 'quarrelsome', 'invincible', 'rhetorical', 'satisfying', 'agonizing', 'beautiful', 'impartial', 'panoramic', 'structure', 'truculent', 'announce', 'argument', 'business', 'overflow', 'subtract', 'arrange', 'immense', 'letters', 'noxious', 'perfect', 'strange', 'bridge', 'butter', 'clover', 'escape', 'growth', 'homely', 'locket', 'mitten', 'phobic', 'switch', 'throne', 'ticket', 'vessel', 'avoid', 'claim', 'crime', 'daily', 'humor', 'irate', 'knock', 'light', 'shake', 'space', 'tease', 'bone', 'bulb', 'icky', 'part']\n",
      "['knowledgeable', 'quarrelsome', 'invincible', 'rhetorical', 'satisfying', 'agonizing', 'beautiful', 'impartial', 'panoramic', 'structure', 'truculent', 'announce', 'argument', 'business', 'overflow', 'subtract', 'arrange', 'immense', 'letters', 'noxious', 'perfect', 'strange', 'bridge', 'butter', 'clover', 'escape', 'growth', 'homely', 'locket', 'mitten', 'phobic', 'switch', 'throne', 'ticket', 'vessel', 'avoid', 'claim', 'crime', 'daily', 'humor', 'irate', 'knock', 'light', 'shake', 'space', 'tease', 'bone', 'bulb', 'icky', 'part']\n"
     ]
    }
   ],
   "source": [
    "data2 = ['business', 'switch', 'letters', 'agonizing', 'irate', 'strange', 'light', 'bone', 'clover', 'locket',\n",
    "         'knock', 'part', 'throne', 'announce', 'mitten', 'claim', 'impartial', 'structure', 'vessel', 'homely',\n",
    "         'arrange', 'ticket', 'growth', 'quarrelsome', 'satisfying', 'avoid', 'panoramic', 'perfect', 'beautiful', 'escape',\n",
    "         'daily', 'subtract', 'knowledgeable', 'argument', 'butter', 'invincible', 'rhetorical', 'overflow', 'humor', 'tease',\n",
    "         'noxious', 'crime', 'truculent', 'shake', 'bridge', 'bulb', 'phobic', 'icky', 'immense', 'space']\n",
    "\n",
    "\n",
    "# sorted() 함수 이용\n",
    "data2_sorted = sorted(data2, key=lambda x: (-len(x), x))\n",
    "print(data2_sorted)\n",
    "\n",
    "\n",
    "# 리스트.sort() 함수 이용\n",
    "data2.sort(key=lambda x: (-len(x), x))\n",
    "print(data2)\n"
   ]
  }
 ],
 "metadata": {
  "interpreter": {
   "hash": "0d50be85dbbb3a950a83e028b2b14e0765012909e66ca153f55ecc7c44cddb24"
  },
  "kernelspec": {
   "display_name": "Python 3.8.12 64-bit ('basic': conda)",
   "language": "python",
   "name": "python3"
  },
  "language_info": {
   "codemirror_mode": {
    "name": "ipython",
    "version": 3
   },
   "file_extension": ".py",
   "mimetype": "text/x-python",
   "name": "python",
   "nbconvert_exporter": "python",
   "pygments_lexer": "ipython3",
   "version": "3.8.12"
  },
  "orig_nbformat": 4
 },
 "nbformat": 4,
 "nbformat_minor": 2
}
