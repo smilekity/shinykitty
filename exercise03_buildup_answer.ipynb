{
 "cells": [
  {
   "cell_type": "markdown",
   "metadata": {},
   "source": [
    "# PIA Pacemaker - Python 과정\n",
    "\n",
    "# Python 실습예제 #3\n",
    "\n",
    "기초부터 문제까지 차근차근 Build-up\n",
    "\n",
    "- 함수\n",
    "- 예외처리\n",
    "- 클래스\n",
    "- 모듈\n",
    "\n",
    "실습예제 #3에서는 앞서서 실습예제 #1, #2을 통해 구현한 기능들에 함수, 클래스, 모듈을 적용해 봅니다.\n",
    "\n",
    "이미 다뤘던 정렬 기능, 카운트 기능을 재사용 하기 위해서는 어떻게 해야 하는지 알아봅니다.\n",
    "\n",
    "그리고 코드의 완성도를 높이기 위해 예외처리를 사용하는 방법도 배워보겠습니다.\n"
   ]
  },
  {
   "cell_type": "markdown",
   "metadata": {},
   "source": [
    "### 연습 1. 함수 (Functions)\n",
    "\n",
    "함수를 사용하는 이유: 코드의 중복을 막고 재사용성을 높이기 위해\n",
    "\n",
    "함수 정의 방법:\n",
    "\n",
    "&emsp;def 함수이름(매개변수):  \n",
    "&emsp;&emsp; ...  \n",
    "&emsp;&emsp; return 반환값\n"
   ]
  },
  {
   "cell_type": "code",
   "execution_count": 1,
   "metadata": {},
   "outputs": [
    {
     "name": "stdout",
     "output_type": "stream",
     "text": [
      "98\n",
      "45\n"
     ]
    }
   ],
   "source": [
    "# 함수의 정의\n",
    "def sample_function1(a, b):\n",
    "  res = a * 10 + b\n",
    "  return res\n",
    "\n",
    "\n",
    "# 호출\n",
    "r = sample_function1(9, 8)\n",
    "s = sample_function1(4, 5)\n",
    "\n",
    "print(r)\n",
    "print(s)\n",
    "\n",
    "\n",
    "# 여기서 함수 안에 선언된 변수 res를 출력하면 어떻게 될까요? 왜 그런 결과가 나올까요? (변수의 scope 참고)\n",
    "# print(res)\n"
   ]
  },
  {
   "cell_type": "markdown",
   "metadata": {},
   "source": [
    "### 연습 2. 변수의 Scope\n",
    "\n",
    "함수의 매개변수를 포함하여 함수 내부에 선언된 변수는 local scope를 가집니다. 이를 local variable 즉, 지역변수라고 합니다.\n",
    "\n",
    "함수 외부의 전역 공간 (함수, 클래스도 아닌 공간)에 선언된 변수는 global scope를 갖고, 이를 global variable 또는 전역변수라고 합니다."
   ]
  },
  {
   "cell_type": "code",
   "execution_count": 2,
   "metadata": {},
   "outputs": [
    {
     "name": "stdout",
     "output_type": "stream",
     "text": [
      "함수 외부 전역공간 a, b: 10 20\n",
      "함수 내부 지역공간 a, b: 30 40\n",
      "함수 외부 전역공간 a, b: 10 20\n"
     ]
    }
   ],
   "source": [
    "def add(a, b):\n",
    "  print('함수 내부 지역공간 a, b:', a, b)\n",
    "  res = a + b\n",
    "  return res\n",
    "\n",
    "\n",
    "a = 10\n",
    "b = 20\n",
    "c = 30\n",
    "d = 40\n",
    "\n",
    "print('함수 외부 전역공간 a, b:', a, b)\n",
    "\n",
    "\n",
    "e = add(c, d)\n",
    "\n",
    "\n",
    "print('함수 외부 전역공간 a, b:', a, b)\n"
   ]
  },
  {
   "cell_type": "markdown",
   "metadata": {},
   "source": [
    "### 연습 3. 함수의 종류\n",
    "\n",
    "매개변수(parameter 혹은 argument)와 리턴(return)의 유무에 따른 함수의 종류\n",
    "\n",
    "\\- parameter & return 모두 존재 :  함수의 가장 일반적인 형태. 매개변수로 데이터를 받아 처리 후 값을 돌려준다.  예: len('some_text'), sorted([19, 15, 23])\n",
    "\n",
    "\\- parameter 없고, return만 존재 :  딱히 받아야 할 데이터가 없고, 정해진 기능을 처리 후 값을 돌려준다.  예: time.time()\n",
    "\n",
    "\\- parameter만 있고, return 없음 :  데이터를 받아서 처리하지만 그 자체로 기능을 모두 수행하고 값을 돌려주지 않는다.  예: print('hello')\n",
    "\n",
    "\\- parameter & return 모두 없음 :  주어진 기능만 수행하면 충분한 함수. 데이터를 받지도 않고, 돌려주는 값도 없다.  예: quit(), 또는 some_list.sort()"
   ]
  },
  {
   "cell_type": "code",
   "execution_count": 3,
   "metadata": {},
   "outputs": [
    {
     "name": "stdout",
     "output_type": "stream",
     "text": [
      "[4, 5, 1]\n",
      "[1, 4, 5]\n",
      "1644966700.487663\n",
      "print() 함수는 화면에 출력만 하면 역할 끝. return 할 내용은 없어요.\n",
      "return이 있는지 없는지 확인하고 넘어가겠습니다. -> res1\n",
      "res1: None\n",
      "res2: None\n",
      "[2, 4, 5, 6]\n"
     ]
    }
   ],
   "source": [
    "# parameter & return 모두 존재하는 함수의 예: sorted()\n",
    "list_a = [4, 5, 1]\n",
    "list_b = sorted(list_a)\n",
    "\n",
    "print(list_a)   # 원본은 변하지 않았고\n",
    "print(list_b)   # return 된 리스트만 정렬되어 있습니다.\n",
    "\n",
    "\n",
    "# parameter는 없고 return만 존재하는 함수의 예:  time.time()\n",
    "import time\n",
    "now = time.time()   # 현재시간을 초 단위로 리턴 (값은 1970년 1월 1일 0시 0분 0초 이후 지금까지 경과한 초)\n",
    "                    # 항상 '현재시간'을 구하게끔 되어있어서 딱히 인자로 받을 것이 없음\n",
    "print(now)\n",
    "\n",
    "\n",
    "# parameter만 있고, return 없는 함수의 예:  print()\n",
    "print('print() 함수는 화면에 출력만 하면 역할 끝. return 할 내용은 없어요.')\n",
    "res1 = print('return이 있는지 없는지 확인하고 넘어가겠습니다. -> res1')\n",
    "print('res1:', res1)  # 무엇이 출력되나요?\n",
    "\n",
    "\n",
    "# parameter, return 둘 다 없는 함수의 예:  .sort()\n",
    "list_c = [5, 6, 2, 4]\n",
    "res2 = list_c.sort()    # 일단 parameter 없고\n",
    "print('res2:', res2)    # 어라, return도 없네??  왜 그럴까요? 이 함수의 역할은 무엇일까요?\n",
    "\n",
    "print(list_c)           # 아~ 리스트 원본을 바꾸면서 정렬했군요. 그럼 그 역할을 다 했으니 굳이 return할 필요가 없죠.\n",
    "                        # 여기서 .sort() 함수는 list 클래스에 정의된 함수입니다. 자세한 내용은 class에 가서 좀 더 다뤄보겠습니다.\n"
   ]
  },
  {
   "cell_type": "markdown",
   "metadata": {},
   "source": [
    "---\n",
    "### 문제 1\n",
    "\n",
    "다음은 실습예제 #1에서 실습한 정렬기능입니다. (bubble sort)\n"
   ]
  },
  {
   "cell_type": "code",
   "execution_count": 4,
   "metadata": {},
   "outputs": [
    {
     "name": "stdout",
     "output_type": "stream",
     "text": [
      "[4, 29, 41, 41, 49, 54, 56, 60, 70, 92]\n"
     ]
    }
   ],
   "source": [
    "# 정렬 알고리즘 예\n",
    "\n",
    "data_sample = [4, 29, 41, 92, 70, 60, 41, 54, 56, 49]\n",
    "\n",
    "for stage in range(len(data_sample) - 1):\n",
    "  for i in range(len(data_sample) - 1 - stage):\n",
    "    if data_sample[i] > data_sample[i+1]:\n",
    "      data_sample[i], data_sample[i+1] = data_sample[i+1], data_sample[i]\n",
    "\n",
    "print(data_sample)\n"
   ]
  },
  {
   "cell_type": "markdown",
   "metadata": {},
   "source": [
    "이 기능을 두 가지 버전의 함수로 만들어 보세요.\n",
    "\n",
    "1) 원본을 보존하는 버전\n",
    "\n",
    "2) 원본을 보존하지 않는 버전 (원본을 직접 수정하여 정렬)\n",
    "\n",
    "이 때 각각의 정렬함수는 어떤 종류의 함수로 만드는 것이 좋을까요?"
   ]
  },
  {
   "cell_type": "code",
   "execution_count": 5,
   "metadata": {},
   "outputs": [
    {
     "name": "stdout",
     "output_type": "stream",
     "text": [
      "[3, 5, 1, 2, 3] -> [1, 2, 3, 3, 5]\n",
      "[1, 9, 8, 7, 4] -> [1, 4, 7, 8, 9]\n"
     ]
    }
   ],
   "source": [
    "# 1) 원본을 보존하는 정렬함수\n",
    "def sort_to_new_list(li):\n",
    "  lc = li.copy()\n",
    "\n",
    "  for stage in range(len(lc) - 1):\n",
    "    for i in range(len(lc) - 1 - stage):\n",
    "      if lc[i] > lc[i+1]:\n",
    "        lc[i], lc[i+1] = lc[i+1], lc[i]\n",
    "\n",
    "  return lc\n",
    "\n",
    "\n",
    "# 아래 두 리스트를 각각 정렬한 후, 원본과 결과를 출력해 보세요.\n",
    "data1 = [3, 5, 1, 2, 3]\n",
    "data2 = [1, 9, 8, 7, 4]\n",
    "\n",
    "\n",
    "data1_sorted = sort_to_new_list(data1)\n",
    "data2_sorted = sort_to_new_list(data2)\n",
    "\n",
    "print(data1, '->', data1_sorted)\n",
    "print(data2, '->', data2_sorted)\n"
   ]
  },
  {
   "cell_type": "code",
   "execution_count": 6,
   "metadata": {},
   "outputs": [
    {
     "name": "stdout",
     "output_type": "stream",
     "text": [
      "[1, 2, 3, 3, 5]\n",
      "[1, 4, 7, 8, 9]\n"
     ]
    }
   ],
   "source": [
    "# 2) 원본을 보존하지 않는 정렬함수 (직접 정렬)\n",
    "def direct_sort(li):\n",
    "  for stage in range(len(li) - 1):\n",
    "    for i in range(len(li) - 1 - stage):\n",
    "      if li[i] > li[i+1]:\n",
    "        li[i], li[i+1] = li[i+1], li[i]\n",
    "\n",
    "\n",
    "# 아래 두 리스트를 각각 정렬한 후, 결과를 출력해 보세요.\n",
    "data1 = [3, 5, 1, 2, 3]\n",
    "data2 = [1, 9, 8, 7, 4]\n",
    "\n",
    "\n",
    "direct_sort(data1)\n",
    "direct_sort(data2)\n",
    "\n",
    "print(data1)\n",
    "print(data2)\n"
   ]
  },
  {
   "cell_type": "markdown",
   "metadata": {},
   "source": [
    "### 연습 4. 매개변수의 갯수를 지정하지 않는 함수의 정의와 사용\n",
    "\n",
    "만약 함수를 정의할 때에 매개변수의 갯수를 모르는 경우 (바꿔 말하면 다양한 길이의 매개변수를 처리하고 싶은 경우)에는 어떻게 할까요?\n",
    "\n",
    "두 가지 방법이 있어요.\n",
    "\n",
    "1) 매개변수를 튜플이나 리스트로 모아서 받음\n",
    "\n",
    "2) 매개변수를 튜플로 받는건 동일하지만, 함수를 호출할 때는 냐열해서 호출하도록 처리\n",
    "\n",
    "이게 대체 뭔 얘기인지 모르겠다면 댜음의 예제를 보세요.\n"
   ]
  },
  {
   "cell_type": "code",
   "execution_count": 7,
   "metadata": {},
   "outputs": [
    {
     "name": "stdout",
     "output_type": "stream",
     "text": [
      "just\n",
      "a\n",
      "rather\n",
      "very\n",
      "intelligent\n",
      "system\n",
      "------------------------------\n",
      "just\n",
      "a\n",
      "rather\n",
      "very\n",
      "intelligent\n",
      "system\n"
     ]
    }
   ],
   "source": [
    "# 첫 번째 방법\n",
    "def print_elements_in_a_tuple(args):\n",
    "  for a in args:\n",
    "    print(a)\n",
    "        \n",
    "print_elements_in_a_tuple( ('just', 'a', 'rather', 'very', 'intelligent', 'system') )\n",
    "\n",
    "print('---' * 10)\n",
    "\n",
    "\n",
    "# 두 번째 방법\n",
    "def print_elements_in_params(*args):\n",
    "  for a in args:\n",
    "    print(a)\n",
    "        \n",
    "print_elements_in_params( 'just', 'a', 'rather', 'very', 'intelligent', 'system' )\n",
    "\n"
   ]
  },
  {
   "cell_type": "markdown",
   "metadata": {},
   "source": [
    "### 보너스 문제 1\n",
    "\n",
    "위에서 만든 정렬 함수를 *args 매개변수를 받는 버전으로 만들어 보세요.\n",
    "\n",
    "이 때에는 위의 두 버전(원본 보존 여부에 따른...)이 모두 유효할까요?"
   ]
  },
  {
   "cell_type": "code",
   "execution_count": 8,
   "metadata": {},
   "outputs": [
    {
     "name": "stdout",
     "output_type": "stream",
     "text": [
      "[1, 3, 5, 7, 9]\n"
     ]
    }
   ],
   "source": [
    "def sort_args(*args):\n",
    "  \n",
    "  li = list(args)\n",
    "  \n",
    "  for stage in range(len(li) - 1):\n",
    "    for i in range(len(li) - 1 - stage):\n",
    "      if li[i] > li[i+1]:\n",
    "        li[i], li[i+1] = li[i+1], li[i]\n",
    "        \n",
    "  return li\n",
    "\n",
    "\n",
    "res = sort_args(3, 1, 5, 9, 7)\n",
    "\n",
    "print(res)\n"
   ]
  },
  {
   "cell_type": "markdown",
   "metadata": {},
   "source": [
    "### 연습 5. 값이 지정된 매개변수의 사용 (default parameter)\n",
    "\n",
    "함수를 만들 때에 뭔가 추가적인 처리를 하고 싶은데 그 경우가 비교적 드문 경우가 있습니다.\n",
    "\n",
    "예를 들어서 \"성공\", \"실패\"를 출력하는 함수를 만드는데 대부분 \"성공\" 메시지를 출력하고 가끔 \"실패\"를 출력하고 싶다면?\n",
    "\n",
    "바꿔 말해서 아무것도 주어지지 않았을 때에는 \"성공\"을 출력하고 싶다면 어떻게 할까요?\n"
   ]
  },
  {
   "cell_type": "code",
   "execution_count": 9,
   "metadata": {},
   "outputs": [
    {
     "name": "stdout",
     "output_type": "stream",
     "text": [
      "성공!!\n",
      "성공!!\n",
      "실패ㅠㅠ\n",
      "성공!!\n",
      "성공!!\n"
     ]
    }
   ],
   "source": [
    "def log_result(success=True):\n",
    "  if success:\n",
    "    print(\"성공!!\")\n",
    "  else:\n",
    "    print(\"실패ㅠㅠ\")\n",
    "        \n",
    "\n",
    "log_result()\n",
    "log_result()\n",
    "log_result(False)\n",
    "log_result()\n",
    "log_result(True)\n"
   ]
  },
  {
   "cell_type": "markdown",
   "metadata": {},
   "source": [
    "### 보너스 문제 2\n",
    "\n",
    "문제 1에서 만든 정렬함수에 거꾸로 정렬하기 기능을 default parameter를 이용해 추가해 보세요.\n",
    "\n",
    "아무것도 지정하지 않았을 때에는 순방향 정렬이 되도록 하시면 됩니다.\n"
   ]
  },
  {
   "cell_type": "code",
   "execution_count": 10,
   "metadata": {},
   "outputs": [
    {
     "name": "stdout",
     "output_type": "stream",
     "text": [
      "[3, 1, 5, 9, 7] -> [1, 3, 5, 7, 9]\n",
      "[3, 1, 5, 9, 7] -> [9, 7, 5, 3, 1]\n"
     ]
    }
   ],
   "source": [
    "# 여기에 작성\n",
    "\n",
    "def sort_def(li, rev=False):\n",
    "  \n",
    "  li = li.copy()\n",
    "  \n",
    "  for stage in range(len(li) - 1):\n",
    "    for i in range(len(li) - 1 - stage):\n",
    "      if li[i] > li[i+1]:\n",
    "        li[i], li[i+1] = li[i+1], li[i]\n",
    "        \n",
    "  if rev:\n",
    "    li = li[::-1]\n",
    "    \n",
    "  return li\n",
    "\n",
    "\n",
    "data1 = [3, 1, 5, 9, 7]\n",
    "\n",
    "data1_forward = sort_def(data1)\n",
    "data1_reverse = sort_def(data1, rev=True)\n",
    "\n",
    "print(data1, '->', data1_forward)\n",
    "print(data1, '->', data1_reverse)\n"
   ]
  },
  {
   "cell_type": "markdown",
   "metadata": {},
   "source": [
    "---\n",
    "\n",
    "### 연습 6. 예외 처리\n",
    "\n",
    "다음은 2주차에 실습했던 \"나의 로또 번호 역대 최고 당첨 알아보기\" 기능을 함수로 만든 것입니다.  \n",
    "로또 번호 6개를 키보드로 입력 받아서 처리하죠.\n",
    "\n",
    "그런데 규칙과 다르게 번호를 입력하면 어떻게 되던가요? 예를 들어 빈칸으로 구분해야 하는데 쉼포로 구분해서 번호를 입력했다면??  \n",
    "네, 에러가 나고 프로그램은 종료됩니다.  \n",
    "물론 이 경우 다시 실행시키고 제대로 입력하면 되죠.\n",
    "\n",
    "하지만 만약 이 프로그램이 대략 수 천 명에게 서비스하는 프로그램이었다면 어떨까요?  \n",
    "프로그램이 계속 작동하면서 요청이 들어올 때마다 처리를 하는데, 한 번의 잘못된 입력이 들어와서 프로그램이 에러와 함께 종료가 된다면?  \n",
    "서비스 관점에서는 disaster 입니다.\n",
    "\n",
    "예외상황이 발생하더라도 충분히 처리가 된다면 에러로 프로그램을 멈추는 일은 방지할 수 있습니다.  \n",
    "이럴 때 필요한 것이 바로 \"예외처리\"입니다."
   ]
  },
  {
   "cell_type": "code",
   "execution_count": 11,
   "metadata": {},
   "outputs": [],
   "source": [
    "\n",
    "######################################################################################################\n",
    "# 함수정의\n",
    "\n",
    "\n",
    "def get_my_highest_rank():\n",
    "  \n",
    "  # 역대 당첨번호 리스트 가져오기\n",
    "  history_data = get_history_data_list()\n",
    "  \n",
    "  # 키보드로 입력 받기\n",
    "  line = input(\"숫자 6개 입력해 주세요 [1~45]\")\n",
    "  \n",
    "  if line == 'exit':\n",
    "    return -1\n",
    "  \n",
    "  input_list = [int(x) for x in line.strip().split()]\n",
    "  \n",
    "  # 역대 데이터와 비교해서 가장 높은 등수 가져오기\n",
    "  top_rank, top_round = get_highest_rank(input_list, history_data)\n",
    "  \n",
    "  print(f'당신이 선택한 번호 {input_list}의 최고 당첨은 {top_round} 회차에서 {top_rank} 등입니다.')\n",
    "\n",
    "\n",
    "\n",
    "def get_history_data_list():\n",
    "  with open('lotto999.csv', 'rt', encoding='utf-8') as file_obj:\n",
    "    lines = file_obj.readlines()\n",
    "    \n",
    "  return [[int(txt) for txt in line.strip().split(',')] for line in lines[1:]]\n",
    "\n",
    "\n",
    "\n",
    "def get_highest_rank(my_nums, nums_list):\n",
    "  my_set = set(my_nums)\n",
    "\n",
    "  top_rank = 6      # 꽝\n",
    "  top_rank_i = -1\n",
    "\n",
    "  for round_nums in nums_list:\n",
    "    cur_i = round_nums[0]\n",
    "    win_set = set(round_nums[1:-1])\n",
    "    bonus = round_nums[-1]\n",
    "    \n",
    "    matched = len(my_set & win_set)\n",
    "    \n",
    "    if matched == 6:\n",
    "      cur_rank = 1\n",
    "    elif matched == 5:\n",
    "      if bonus in (my_set - win_set):\n",
    "        cur_rank = 2\n",
    "      else:\n",
    "        cur_rank = 3\n",
    "    elif matched == 4:\n",
    "      cur_rank = 4\n",
    "    elif matched == 3:\n",
    "      cur_rank = 5\n",
    "    else:\n",
    "      cur_rank = 6\n",
    "    \n",
    "    if cur_rank < top_rank:\n",
    "      top_rank = cur_rank\n",
    "      top_rank_i = cur_i\n",
    "      \n",
    "  return top_rank, top_rank_i\n",
    "\n"
   ]
  },
  {
   "cell_type": "code",
   "execution_count": 12,
   "metadata": {},
   "outputs": [],
   "source": [
    "# 무한루프 함수 정의\n",
    "\n",
    "def loop_lotto_service():\n",
    "  \n",
    "  while True:\n",
    "    \n",
    "    code = get_my_highest_rank()\n",
    "    \n",
    "    if code == -1:\n",
    "      break\n",
    "\n"
   ]
  },
  {
   "cell_type": "code",
   "execution_count": 13,
   "metadata": {},
   "outputs": [
    {
     "name": "stdout",
     "output_type": "stream",
     "text": [
      "당신이 선택한 번호 [1, 2, 3, 4, 5, 6]의 최고 당첨은 312 회차에서 4 등입니다.\n",
      "당신이 선택한 번호 [11, 12, 13, 14, 15, 16]의 최고 당첨은 535 회차에서 4 등입니다.\n"
     ]
    },
    {
     "ename": "ValueError",
     "evalue": "invalid literal for int() with base 10: '21,'",
     "output_type": "error",
     "traceback": [
      "\u001b[0;31m---------------------------------------------------------------------------\u001b[0m",
      "\u001b[0;31mValueError\u001b[0m                                Traceback (most recent call last)",
      "\u001b[0;32m/var/folders/yz/8w2bgtjn2v9ggk2vkpph65v80000gn/T/ipykernel_8686/445662423.py\u001b[0m in \u001b[0;36m<module>\u001b[0;34m\u001b[0m\n\u001b[1;32m      1\u001b[0m \u001b[0;31m# 무한루프 함수 실행\u001b[0m\u001b[0;34m\u001b[0m\u001b[0;34m\u001b[0m\u001b[0;34m\u001b[0m\u001b[0m\n\u001b[1;32m      2\u001b[0m \u001b[0;34m\u001b[0m\u001b[0m\n\u001b[0;32m----> 3\u001b[0;31m \u001b[0mloop_lotto_service\u001b[0m\u001b[0;34m(\u001b[0m\u001b[0;34m)\u001b[0m\u001b[0;34m\u001b[0m\u001b[0;34m\u001b[0m\u001b[0m\n\u001b[0m\u001b[1;32m      4\u001b[0m \u001b[0;34m\u001b[0m\u001b[0m\n\u001b[1;32m      5\u001b[0m \u001b[0;34m\u001b[0m\u001b[0m\n",
      "\u001b[0;32m/var/folders/yz/8w2bgtjn2v9ggk2vkpph65v80000gn/T/ipykernel_8686/1586897043.py\u001b[0m in \u001b[0;36mloop_lotto_service\u001b[0;34m()\u001b[0m\n\u001b[1;32m      5\u001b[0m   \u001b[0;32mwhile\u001b[0m \u001b[0;32mTrue\u001b[0m\u001b[0;34m:\u001b[0m\u001b[0;34m\u001b[0m\u001b[0;34m\u001b[0m\u001b[0m\n\u001b[1;32m      6\u001b[0m \u001b[0;34m\u001b[0m\u001b[0m\n\u001b[0;32m----> 7\u001b[0;31m     \u001b[0mcode\u001b[0m \u001b[0;34m=\u001b[0m \u001b[0mget_my_highest_rank\u001b[0m\u001b[0;34m(\u001b[0m\u001b[0;34m)\u001b[0m\u001b[0;34m\u001b[0m\u001b[0;34m\u001b[0m\u001b[0m\n\u001b[0m\u001b[1;32m      8\u001b[0m \u001b[0;34m\u001b[0m\u001b[0m\n\u001b[1;32m      9\u001b[0m     \u001b[0;32mif\u001b[0m \u001b[0mcode\u001b[0m \u001b[0;34m==\u001b[0m \u001b[0;34m-\u001b[0m\u001b[0;36m1\u001b[0m\u001b[0;34m:\u001b[0m\u001b[0;34m\u001b[0m\u001b[0;34m\u001b[0m\u001b[0m\n",
      "\u001b[0;32m/var/folders/yz/8w2bgtjn2v9ggk2vkpph65v80000gn/T/ipykernel_8686/1743278527.py\u001b[0m in \u001b[0;36mget_my_highest_rank\u001b[0;34m()\u001b[0m\n\u001b[1;32m     14\u001b[0m     \u001b[0;32mreturn\u001b[0m \u001b[0;34m-\u001b[0m\u001b[0;36m1\u001b[0m\u001b[0;34m\u001b[0m\u001b[0;34m\u001b[0m\u001b[0m\n\u001b[1;32m     15\u001b[0m \u001b[0;34m\u001b[0m\u001b[0m\n\u001b[0;32m---> 16\u001b[0;31m   \u001b[0minput_list\u001b[0m \u001b[0;34m=\u001b[0m \u001b[0;34m[\u001b[0m\u001b[0mint\u001b[0m\u001b[0;34m(\u001b[0m\u001b[0mx\u001b[0m\u001b[0;34m)\u001b[0m \u001b[0;32mfor\u001b[0m \u001b[0mx\u001b[0m \u001b[0;32min\u001b[0m \u001b[0mline\u001b[0m\u001b[0;34m.\u001b[0m\u001b[0mstrip\u001b[0m\u001b[0;34m(\u001b[0m\u001b[0;34m)\u001b[0m\u001b[0;34m.\u001b[0m\u001b[0msplit\u001b[0m\u001b[0;34m(\u001b[0m\u001b[0;34m)\u001b[0m\u001b[0;34m]\u001b[0m\u001b[0;34m\u001b[0m\u001b[0;34m\u001b[0m\u001b[0m\n\u001b[0m\u001b[1;32m     17\u001b[0m \u001b[0;34m\u001b[0m\u001b[0m\n\u001b[1;32m     18\u001b[0m   \u001b[0;31m# 역대 데이터와 비교해서 가장 높은 등수 가져오기\u001b[0m\u001b[0;34m\u001b[0m\u001b[0;34m\u001b[0m\u001b[0;34m\u001b[0m\u001b[0m\n",
      "\u001b[0;32m/var/folders/yz/8w2bgtjn2v9ggk2vkpph65v80000gn/T/ipykernel_8686/1743278527.py\u001b[0m in \u001b[0;36m<listcomp>\u001b[0;34m(.0)\u001b[0m\n\u001b[1;32m     14\u001b[0m     \u001b[0;32mreturn\u001b[0m \u001b[0;34m-\u001b[0m\u001b[0;36m1\u001b[0m\u001b[0;34m\u001b[0m\u001b[0;34m\u001b[0m\u001b[0m\n\u001b[1;32m     15\u001b[0m \u001b[0;34m\u001b[0m\u001b[0m\n\u001b[0;32m---> 16\u001b[0;31m   \u001b[0minput_list\u001b[0m \u001b[0;34m=\u001b[0m \u001b[0;34m[\u001b[0m\u001b[0mint\u001b[0m\u001b[0;34m(\u001b[0m\u001b[0mx\u001b[0m\u001b[0;34m)\u001b[0m \u001b[0;32mfor\u001b[0m \u001b[0mx\u001b[0m \u001b[0;32min\u001b[0m \u001b[0mline\u001b[0m\u001b[0;34m.\u001b[0m\u001b[0mstrip\u001b[0m\u001b[0;34m(\u001b[0m\u001b[0;34m)\u001b[0m\u001b[0;34m.\u001b[0m\u001b[0msplit\u001b[0m\u001b[0;34m(\u001b[0m\u001b[0;34m)\u001b[0m\u001b[0;34m]\u001b[0m\u001b[0;34m\u001b[0m\u001b[0;34m\u001b[0m\u001b[0m\n\u001b[0m\u001b[1;32m     17\u001b[0m \u001b[0;34m\u001b[0m\u001b[0m\n\u001b[1;32m     18\u001b[0m   \u001b[0;31m# 역대 데이터와 비교해서 가장 높은 등수 가져오기\u001b[0m\u001b[0;34m\u001b[0m\u001b[0;34m\u001b[0m\u001b[0;34m\u001b[0m\u001b[0m\n",
      "\u001b[0;31mValueError\u001b[0m: invalid literal for int() with base 10: '21,'"
     ]
    }
   ],
   "source": [
    "# 무한루프 함수 실행\n",
    "\n",
    "loop_lotto_service()\n",
    "\n",
    "\n",
    "# 함수 실행 후 입력창이 나타나면, \n",
    "# 1) 우선 정상적으로 숫자를 띄어쓰기 하여 입력해보다가,\n",
    "# 2) 이번엔 숫자를 쉼표로 구분해서 입력해 보세요.  --> 에러가 발생하면서 프로그램이 종료되는 것을 확인해 보세요.\n",
    "\n"
   ]
  },
  {
   "cell_type": "code",
   "execution_count": 14,
   "metadata": {},
   "outputs": [
    {
     "name": "stdout",
     "output_type": "stream",
     "text": [
      "잘못된 입력입니다. 다시 입력해 주세요\n",
      "당신이 선택한 번호 [2, 3, 4, 5, 6, 7]의 최고 당첨은 312 회차에서 4 등입니다.\n"
     ]
    }
   ],
   "source": [
    "# 이번엔 예외를 처리할 수 있는 함수를 만들어 봅시다.\n",
    "\n",
    "def loop_lotto_service_with_exception():\n",
    "  \n",
    "  while True:\n",
    "    \n",
    "    try:\n",
    "      code = get_my_highest_rank()\n",
    "      \n",
    "      if code == -1:\n",
    "        break\n",
    "      \n",
    "    except:\n",
    "      print('잘못된 입력입니다. 다시 입력해 주세요')\n",
    "      \n",
    "\n",
    "\n",
    "# 함수를 실행합니다.\n",
    "loop_lotto_service_with_exception()\n",
    "\n",
    "# 잘못된 형식을 넣어도 예외가 적절히 처리되고 프로그램이 종료되지 않습니다.\n",
    "# 종료하려면 exit를 입력하세요. 웬만하면 예외가 처리되고 종료되지 않으니 종료조건을 잘 넣어놓는 것도 중요합니다.\n"
   ]
  },
  {
   "cell_type": "markdown",
   "metadata": {},
   "source": [
    "---\n",
    "### 연습 7. 클래스\n",
    "\n",
    "클래스는 데이터(멤버변수)와 기능(멤버함수)을 모아놓은 '설계도'입니다.  \n",
    "아래와 같이 클래스를 정의합니다.\n",
    "\n",
    "```python\n",
    "  class SomeClass:\n",
    "\n",
    "    def __init__(self, ...):   # 이건 생성자\n",
    "      self.some_var1 = 초기화값    # 멤버 변수\n",
    "      self.some_var1 = 초기화값\n",
    "\n",
    "    def some_func(self, ...):    # 멤버 함수\n",
    "      ...\n",
    "    \n",
    "```\n",
    "  \n",
    "  \n",
    "실제로 사용하기 위해서는 클래스를 이용해 객체(인스턴스)를 생성합니다.  \n",
    "\n",
    "```python\n",
    "\n",
    "  some_object = SomeClass()     # 인스턴스를 생성하여 some_object 변수에 할당\n",
    "\n",
    "  print(some_object.some_var1)  # 인스턴스의 변수에 접근\n",
    "\n",
    "  some_object.some_func()       # 인스턴스의 함수 호출\n",
    "\n",
    "```\n",
    "\n",
    "인스턴스 변수에 구두점 ' . ' 을 통해 멤버변수 또는 멤버함수를 사용합니다.\n"
   ]
  },
  {
   "cell_type": "code",
   "execution_count": 15,
   "metadata": {},
   "outputs": [],
   "source": [
    "# 로또 번호 분석기를 클래스로 만들어 봅시다.\n",
    "\n",
    "# 역대 당첨기록을 멤버변수 history_list로 저장합니다.\n",
    "# 멤버함수 check_my_numbers()에서는 주어진 숫자들을 역대 당첨기록과 비교하여 가장 좋은 성적을 알려줍니다.\n",
    "# 기존의 함수를 어떻게 변형시켰는지 살펴보세요.\n",
    "\n",
    "\n",
    "class LottoMachine:\n",
    "  \n",
    "  def __init__(self, history_list):\n",
    "    self.history_list = history_list\n",
    "  \n",
    "  \n",
    "  def check_my_numbers(self, my_nums):\n",
    "    my_set = set(my_nums)\n",
    "\n",
    "    top_rank = 6      # 꽝\n",
    "    top_rank_i = -1\n",
    "\n",
    "    for round_nums in self.history_list:\n",
    "      cur_i = round_nums[0]\n",
    "      win_set = set(round_nums[1:-1])\n",
    "      bonus = round_nums[-1]\n",
    "      \n",
    "      matched = len(my_set & win_set)\n",
    "      \n",
    "      if matched == 6:\n",
    "        cur_rank = 1\n",
    "      elif matched == 5:\n",
    "        if bonus in (my_set - win_set):\n",
    "          cur_rank = 2\n",
    "        else:\n",
    "          cur_rank = 3\n",
    "      elif matched == 4:\n",
    "        cur_rank = 4\n",
    "      elif matched == 3:\n",
    "        cur_rank = 5\n",
    "      else:\n",
    "        cur_rank = 6\n",
    "      \n",
    "      if cur_rank < top_rank:\n",
    "        top_rank = cur_rank\n",
    "        top_rank_i = cur_i\n",
    "        \n",
    "    return top_rank, top_rank_i\n",
    "  \n"
   ]
  },
  {
   "cell_type": "code",
   "execution_count": 16,
   "metadata": {},
   "outputs": [
    {
     "name": "stdout",
     "output_type": "stream",
     "text": [
      "Old Machine: 당신이 선택한 번호 [1, 2, 3, 4, 5, 6]의 최고 당첨은 107 회차에서 4 등입니다.\n",
      "New Machine: 당신이 선택한 번호 [1, 2, 3, 4, 5, 6]의 최고 당첨은 745 회차에서 5 등입니다.\n"
     ]
    }
   ],
   "source": [
    "# 클래스 밖에서 (전역공간에서) 데이터를 준비해 봅시다.\n",
    "# 앞서서 정의했던 get_history_data_list() 함수를 사용해서 csv 파일로부터 데이터를 읽어오겠습니다.\n",
    "\n",
    "history_data_list = get_history_data_list()\n",
    "\n",
    "\n",
    "# 자, 그런데 로또 기계가 733회부터 바뀌었다고 합니다.\n",
    "# 유의미한 통계를 내기 위해서는 바뀌기 이전 기계와 이후 기계를 구분해야 하겠죠?\n",
    "# 데이터를 우선 나누어 볼까요?\n",
    "\n",
    "history_data_list = history_data_list[::-1]   # 회차 오름차순으로 변경: [999회차, 998회차, ...]  -->  [1회차, 2회차, ...]\n",
    "\n",
    "history_old = history_data_list[:733]\n",
    "history_new = history_data_list[733:]\n",
    "\n",
    "\n",
    "\n",
    "# 이제 로또 번호 분석기를 두 개 만들어 보도록 하겠습니다.\n",
    "\n",
    "lotto_machine_old = LottoMachine(history_old)\n",
    "\n",
    "lotto_machine_new = LottoMachine(history_new)\n",
    "\n",
    "\n",
    "\n",
    "# 숫자 입력을 받아서 순위를 알아볼까요?\n",
    "line = input(\"숫자 6개 입력해 주세요 [1~45]\")\n",
    "my_nums = [int(x) for x in line.strip().split()]\n",
    "\n",
    "\n",
    "# 입력한 숫자롤 옛날 기계에 대입해 순위를 알아보면,\n",
    "rank, i = lotto_machine_old.check_my_numbers(my_nums)\n",
    "\n",
    "print(f'Old Machine: 당신이 선택한 번호 {my_nums}의 최고 당첨은 {i} 회차에서 {rank} 등입니다.')\n",
    "\n",
    "\n",
    "# 같은 숫자에 대해 현재 기계로 순위를 알아보면,\n",
    "rank, i = lotto_machine_new.check_my_numbers(my_nums)\n",
    "\n",
    "print(f'New Machine: 당신이 선택한 번호 {my_nums}의 최고 당첨은 {i} 회차에서 {rank} 등입니다.')\n",
    "\n",
    "\n",
    "\n",
    "# 지금까지 내부에 데이터를 가지고 있고, 그 데이터의 내용은 다르지만, 가지고 있는 데이터에 대해서 어떤 기능을 수행하는 무언가를 만들어 봤습니다. \n",
    "# 이 무언가가 바로 \"객체\" 또는 \"인스턴스\"이고, 이 인스턴스를 만들 수 있게 설계된 형틀이 바로 \"클래스\"입니다.\n"
   ]
  },
  {
   "cell_type": "markdown",
   "metadata": {},
   "source": [
    "### 연습 8. 클래스 상속\n",
    "\n",
    "객체지향 개념의 꽃이라고도 불리는 \"상속\"에 대해 간단한 예제를 통해 알아보겠습니다.  \n",
    "\n",
    "클래스를 상속 받아서 원래 있던 함수를 \"오버라이드\"하고, 그 함수에서 부모 클래스의 같은 이름의 함수를 호출하고 추가적인 작업을 하는 방식으로 작성해 보겠습니다.\n"
   ]
  },
  {
   "cell_type": "code",
   "execution_count": 17,
   "metadata": {},
   "outputs": [
    {
     "name": "stdout",
     "output_type": "stream",
     "text": [
      "전화를 겁니다. from: 011-0000-0000 -> to: 010-1234-5678\n",
      "------------------------------------------------------------\n",
      "[화상통화 모드] 카메라를 켭니다.\n",
      "전화를 겁니다. from: 010-1111-1111 -> to: 010-9999-9999\n",
      "[화상통화 종료] 카메라를 끕니다.\n",
      "------------------------------------------------------------\n"
     ]
    }
   ],
   "source": [
    "class Phone:\n",
    "  \n",
    "  def __init__(self, number):\n",
    "    self.number = number\n",
    "  \n",
    "  def call(self, to):\n",
    "    print(f'전화를 겁니다. from: {self.number} -> to: {to}')\n",
    "\n",
    "\n",
    "\n",
    "class SmartPhone(Phone):\n",
    "  \n",
    "  def __init__(self, number):\n",
    "    super().__init__(number)\n",
    "    \n",
    "  def call(self, to):\n",
    "    print('[화상통화 모드] 카메라를 켭니다.')\n",
    "    super().call(to)\n",
    "    print('[화상통화 종료] 카메라를 끕니다.')\n",
    "    \n",
    "\n",
    "\n",
    "# 인스턴스를 만들어서 써먹어 봅시다.\n",
    "\n",
    "my_phone = Phone('011-0000-0000')\n",
    "my_phone.call('010-1234-5678')\n",
    "\n",
    "print('------' * 10)\n",
    "\n",
    "\n",
    "iphone = SmartPhone('010-1111-1111')\n",
    "iphone.call('010-9999-9999')\n",
    "\n",
    "print('------' * 10)\n",
    "\n"
   ]
  },
  {
   "cell_type": "markdown",
   "metadata": {},
   "source": [
    "### 문제 2\n",
    "\n",
    "위에서 정의한 LottoMachine 클래스를 상속 받아서 LottoMachine6 클래스를 만들고 다음 기능을 추가해 보세요.\n",
    "\n",
    "- 입력된 숫자가 6개인지 확인해서 아닐 경우 예외를 발생\n",
    "\n",
    "check_my_numbers() 함수를 오버라이딩 해서 구현하되, 이미 정의되어 있는 기능을 활용해서 최소한의 코드로 작성해 보세요. (상속의 목적)\n",
    "\n",
    "힌트1) super() 활용  \n",
    "힌트2) 예외는 raise로 발생시킬 수 있음"
   ]
  },
  {
   "cell_type": "code",
   "execution_count": 18,
   "metadata": {},
   "outputs": [],
   "source": [
    "\n",
    "class LottoMachine6 (LottoMachine):\n",
    "  \n",
    "  def __init__(self, history_list):\n",
    "    super().__init__(history_list)\n",
    "  \n",
    "  \n",
    "  def check_my_numbers(self, my_nums):\n",
    "    if len(set(my_nums)) != 6:\n",
    "      raise Exception('중복되지 않은 숫자 6개를 입력해 주세요.')\n",
    "    \n",
    "    if min(my_nums) < 1 or max(my_nums) > 45:\n",
    "      raise Exception('1 ~ 45 범위의 숫자를 입력해 주세요.')\n",
    "    \n",
    "    return super().check_my_numbers(my_nums)\n",
    "\n"
   ]
  },
  {
   "cell_type": "code",
   "execution_count": 19,
   "metadata": {},
   "outputs": [
    {
     "name": "stdout",
     "output_type": "stream",
     "text": [
      "중복되지 않은 숫자 6개를 입력해 주세요.\n",
      "New Machine 6: 당신이 선택한 번호 [2, 3, 5, 6, 7, 8]의 최고 당첨은 789 회차에서 5 등입니다.\n",
      "잘못된 입력입니다. 다시 입력해 주세요.\n",
      "1 ~ 45 범위의 숫자를 입력해 주세요.\n",
      "New Machine 6: 당신이 선택한 번호 [3, 4, 5, 6, 7, 8]의 최고 당첨은 -1 회차에서 6 등입니다.\n",
      "New Machine 6: 당신이 선택한 번호 [10, 11, 23, 24, 25, 40]의 최고 당첨은 784 회차에서 5 등입니다.\n",
      "종료합니다.\n"
     ]
    }
   ],
   "source": [
    "\n",
    "# history_data_list = get_history_data_list()\n",
    "# history_data_list = history_data_list[::-1]\n",
    "# history_new = history_data_list[733:]\n",
    "\n",
    "# 보너스: 위 코드를 한줄로 줄이면?\n",
    "history_new = get_history_data_list()[::-1][733:]\n",
    "\n",
    "# 또는\n",
    "# history_new = get_history_data_list()[-734::-1]\n",
    "\n",
    "\n",
    "# 객체 생성\n",
    "lotto_machine6_new = LottoMachine6(history_new)\n",
    "\n",
    "\n",
    "while True:\n",
    "  \n",
    "  try:\n",
    "    \n",
    "    line = input(\"숫자 6개 입력해 주세요 [1~45]\").strip()\n",
    "    \n",
    "    if line in ['exit', 'quit', 'q']:\n",
    "      print('종료합니다.')\n",
    "      break\n",
    "    \n",
    "    my_nums = list(map(int, line.split()))\n",
    "    \n",
    "    # 객체의 함수 실행\n",
    "    rank, i = lotto_machine6_new.check_my_numbers(my_nums)\n",
    "    \n",
    "    print(f'New Machine 6: 당신이 선택한 번호 {my_nums}의 최고 당첨은 {i} 회차에서 {rank} 등입니다.')\n",
    "    \n",
    "    \n",
    "  except ValueError:\n",
    "    print('잘못된 입력입니다. 다시 입력해 주세요.')\n",
    "    \n",
    "  except Exception as e:\n",
    "    print(e)\n",
    "\n"
   ]
  },
  {
   "cell_type": "markdown",
   "metadata": {},
   "source": [
    "---"
   ]
  },
  {
   "cell_type": "markdown",
   "metadata": {},
   "source": [
    "### 연습 9. 모듈과 패키지를 import 하는 다양한 방법\n",
    "\n",
    "\n",
    "1. 바로 import를 사용하는 방법\n",
    "\n",
    "```python\n",
    "\n",
    "    import 모듈명\n",
    "    import 패키지명.모듈명\n",
    "\n",
    "```\n",
    "\n",
    "이렇게 하면 import 뒤에 있는 모듈명에 ' . ' 연산자를 이용해서 모듈 안의 클래스, 함수, 또는 변수를 사용할 수 있습니다.\n",
    "\n",
    "예:"
   ]
  },
  {
   "cell_type": "code",
   "execution_count": 46,
   "metadata": {},
   "outputs": [
    {
     "name": "stdout",
     "output_type": "stream",
     "text": [
      "6.123233995736766e-17\n"
     ]
    },
    {
     "data": {
      "image/png": "[encoded data removed]",
      "text/plain": [
       "<Figure size 576x396 with 1 Axes>"
      ]
     },
     "metadata": {},
     "output_type": "display_data"
    }
   ],
   "source": [
    "\n",
    "import math     # math 모듈을 가져옴 -->  math.함수명() 이런 식으로 접근\n",
    "\n",
    "res = math.cos(math.pi / 2)   # math.cos() 함수와, math.pi 변수를 사용했다.\n",
    "print(res)\n",
    "\n",
    "\n",
    "\n",
    "import matplotlib.pyplot    # matplotlib 패키지의 pyplot 모듈을 가져옴 -->  matplotlib.pyplot.함수명()  이런 식으로 접근\n",
    "\n",
    "matplotlib.pyplot.style.use('seaborn')\n",
    "\n",
    "matplotlib.pyplot.bar([1, 2, 3], [10, 11, 9])\n",
    "matplotlib.pyplot.show()\n",
    "\n"
   ]
  },
  {
   "cell_type": "markdown",
   "metadata": {},
   "source": [
    "\n",
    "2. import와 별칭을 사용하는 방법\n",
    "\n",
    "```python\n",
    "\n",
    "    import 모듈명 as 별칭\n",
    "    import 패키지명.모듈명 as 별칭\n",
    "\n",
    "```\n",
    "\n",
    "별칭에 ' . ' 연산자를 이용해서 모듈 안의 클래스, 함수, 또는 변수를 사용할 수 있습니다.\n",
    "\n",
    "예:\n"
   ]
  },
  {
   "cell_type": "code",
   "execution_count": 47,
   "metadata": {},
   "outputs": [
    {
     "name": "stdout",
     "output_type": "stream",
     "text": [
      "[[0 1 2 3 4]\n",
      " [5 6 7 8 9]]\n"
     ]
    },
    {
     "data": {
      "image/png": "[encoded data removed]",
      "text/plain": [
       "<Figure size 576x396 with 1 Axes>"
      ]
     },
     "metadata": {},
     "output_type": "display_data"
    }
   ],
   "source": [
    "\n",
    "import numpy as np      # numpy 모듈(패키지)을 np 이름으로 가져옴  -->  np.함수명()  방식으로 사용\n",
    "\n",
    "res = np.arange(10).reshape((2, 5))\n",
    "print(res)\n",
    "\n",
    "\n",
    "\n",
    "import matplotlib.pyplot as plt     # matplotlib 패키지의 pyplot 모듈을 plt 이름으로 가져옴  -->  plt.함수명()  방식으로 사용\n",
    "\n",
    "plt.bar([1, 2, 3], [10, 11, 12])\n",
    "plt.show()\n",
    "\n"
   ]
  },
  {
   "cell_type": "markdown",
   "metadata": {},
   "source": [
    "\n",
    "3. from ... import ...\n",
    "\n",
    "\n",
    "```python\n",
    "\n",
    "    from 패키지명 import 모듈명 [as 별칭]\n",
    "    from 모듈명 import 클래스명, 함수명, 변수명\n",
    "    from 패키지명.모듈명 import 클래스명, 함수명, 변수명\n",
    "\n",
    "```\n",
    "\n",
    "from을 사용하면 클래스, 함수, 변수 레벨로 import 가능합니다.\n",
    "import 뒤에 사용한 이름 또는 별칭에 ' . ' 연산자를 이용해서 import한 모듈, 클래스, 함수, 또는 변수를 사용할 수 있습니다.\n",
    "\n",
    "예:\n"
   ]
  },
  {
   "cell_type": "code",
   "execution_count": 48,
   "metadata": {},
   "outputs": [
    {
     "data": {
      "image/png": "[encoded data removed]",
      "text/plain": [
       "<Figure size 576x396 with 1 Axes>"
      ]
     },
     "metadata": {},
     "output_type": "display_data"
    },
    {
     "data": {
      "image/png": "[encoded data removed]",
      "text/plain": [
       "<Figure size 576x396 with 1 Axes>"
      ]
     },
     "metadata": {},
     "output_type": "display_data"
    },
    {
     "data": {
      "image/png": "[encoded data removed]",
      "text/plain": [
       "<Figure size 576x396 with 1 Axes>"
      ]
     },
     "metadata": {},
     "output_type": "display_data"
    },
    {
     "name": "stdout",
     "output_type": "stream",
     "text": [
      "1.0\n",
      "    0   1   2   3\n",
      "0  10  20  30  40\n",
      "1  11  21  31  41\n"
     ]
    }
   ],
   "source": [
    "\n",
    "from matplotlib import pyplot             # matplotlib 패키지에 있는 pyplot 모듈을 가져옴  -->  pyplot.함수명()  방식으로 사용\n",
    "\n",
    "pyplot.plot([1, 2, 3, 4], [5, 9, 8, 9])\n",
    "pyplot.show()\n",
    "\n",
    "\n",
    "\n",
    "from matplotlib.pyplot import bar, show   # matplotlib 패키지의 pyplot 모듈에 있는 bar(), show() 함수를 가져옴  -->  bar(), show()  방식으로 사용\n",
    "\n",
    "bar([1, 2, 3, 4], [5, 9, 8, 9])\n",
    "show()\n",
    "\n",
    "\n",
    "\n",
    "from matplotlib.pyplot import bar as b, show as s     # matplotlib 패키지의 pyplot 모듈에 있는 bar() 함수를 \"b\"라는 별칭으로,\n",
    "                                                      #   show() 함수를 \"s\"라는 별칭으로 가져옴  -->  b(), s()  방식으로 사용\n",
    "\n",
    "b([1, 2, 3, 4], [5, 9, 8, 9])\n",
    "s()\n",
    "\n",
    "\n",
    "\n",
    "from math import cos, sin, pi         # math 모듈에 있는 cos(), sin() 함수와 pi 변수를 가져옴  -->  cos(), sin(), pi 로 사용\n",
    "\n",
    "print(sin(pi / 2))\n",
    "\n",
    "\n",
    "\n",
    "from pandas import DataFrame as df    # pandas 패키지에 있는 DataFrame 클래스를 df 라는 별칭으로 가져옴  -->  df() 방식으로 사용\n",
    "\n",
    "a = df([[10, 20, 30, 40], [11, 21, 31, 41]])\n",
    "print(a)\n",
    "\n"
   ]
  },
  {
   "cell_type": "markdown",
   "metadata": {},
   "source": [
    "피아스페이스(주) All Rights Reserved.  \n",
    "\n",
    "https://www.pia-space.net"
   ]
  }
 ],
 "metadata": {
  "interpreter": {
   "hash": "0d50be85dbbb3a950a83e028b2b14e0765012909e66ca153f55ecc7c44cddb24"
  },
  "kernelspec": {
   "display_name": "Python 3.8.12 64-bit ('basic': conda)",
   "language": "python",
   "name": "python3"
  },
  "language_info": {
   "codemirror_mode": {
    "name": "ipython",
    "version": 3
   },
   "file_extension": ".py",
   "mimetype": "text/x-python",
   "name": "python",
   "nbconvert_exporter": "python",
   "pygments_lexer": "ipython3",
   "version": "3.8.12"
  },
  "orig_nbformat": 4
 },
 "nbformat": 4,
 "nbformat_minor": 2
}
