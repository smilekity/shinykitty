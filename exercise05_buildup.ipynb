{
 "cells": [
  {
   "cell_type": "markdown",
   "metadata": {},
   "source": [
    "# Python 실습예제 #5\n",
    "\n",
    "기초부터 문제까지 차근차근 Build-up\n",
    "\n",
    "- [준비] 카카오 오픈 API 사용 준비하기 (한 번만 수행하면 됩니다.)\n",
    "- [연습] 카카오톡으로 나에게 메시지 보내기\n",
    "- [문제] 크롤링 한 결과를 카카오톡으로 나에게 메시지 보내기\n"
   ]
  },
  {
   "cell_type": "markdown",
   "metadata": {},
   "source": [
    "---"
   ]
  },
  {
   "cell_type": "markdown",
   "metadata": {},
   "source": [
    "### 준비 1 - kakao developers 가입, 애플리케이션 생성, 앱 키 받기\n",
    "\n",
    "https://novice-engineers.tistory.com/9?category=908185  참고하여, 1 ~ 4까지 진행합니다.\n",
    "\n",
    "\n",
    "1. kakao developers 사이트 방문 (https://developers.kakao.com/)\n",
    "2. 회원가입 및 로그인 - 카카오 계정이 있더라도 developers에 별도 가입 필요합니다 (약관동의 필요). 본인의 카카오 계정으로 가입하시면 됩니다.\n",
    "3. 애플리케이션 생성하기 - 앱아이콘은 생략가능, 앱 이름은 영문으로 (kakao 포함하면 허용안됨), 사업자명은 본인 이름을 넣으시면 됩니다.\n",
    "4. 앱 키 (REST API 키) 저장하기\n",
    "\n",
    "\n",
    "결과물: App Key \n"
   ]
  },
  {
   "cell_type": "code",
   "execution_count": 1,
   "metadata": {},
   "outputs": [],
   "source": [
    "# 생성된 앱 키를 아래 변수에 저장합니다. (생성한 앱 마다 고유의 키 값이 생성됨)\n",
    "# 나타나는 여러 앱 키 중 우리가 사용할 것은 REST API 입니다.\n",
    "\n",
    "\n",
    "application_key = \"이_문장을_REST_API_Key로_대체해_주세요\"\n",
    "\n",
    "\n",
    "# 키 값 입력 후, 이 코드 블록을 실행하여 application_ley 변수에 값이 저장되도록 합니다.\n"
   ]
  },
  {
   "cell_type": "markdown",
   "metadata": {},
   "source": [
    "<br><br>\n",
    "\n",
    "### 준비 2 - 메시지 전송기능 활성화 시키기\n",
    "\n",
    "다른 페이지: https://novice-engineers.tistory.com/12?category=908185 참고하여, 본인인증 및 동의항목을 모두 수행합니다.\n",
    "\n",
    "- 우측상단 본인 이메일주소 클릭 -> 계정 설정에서 본인인증여부 확인\n",
    "- \"내 애플리케이션\" -> 방금 만든 애플리케이션 선택 -> 좌측메뉴>카카오로그인>동의항목 -> 맨 아래 \"카카오톡 메시지 전송\" 선택동의로 설정 (아래 그림 참조)  \n",
    "\n",
    "\n",
    "<img src='exercise05_image01.png' width=\"1000px\"></img>"
   ]
  },
  {
   "cell_type": "markdown",
   "metadata": {},
   "source": [
    "<br><br>\n",
    "\n",
    "\n",
    "### 준비 3 - 로그인 활성화 설정, Redirect URI 설정, 인증코드 받기\n",
    "\n",
    "다시 처음 페이지 (https://novice-engineers.tistory.com/9?category=908185) 참고하여, 5 ~ 7까지 진행합니다.\n",
    "\n",
    "5. 카카오 로그인 활성화 설정, Redirect URI 설정:  redirect uri는 https://example.com/oauth 로 설정합니다.\n",
    "6. 인증코드 받기용 URL (스킵. 아래에 적어놨음)\n",
    "7. 인증코드 받기 (아래의 안내를 따르세요)\n",
    "\n",
    "아래 두 개의 코드 블록의 안내(주석)에 따라 코드를 가져옵니다.\n",
    "\n",
    "결과물: 인증코드\n"
   ]
  },
  {
   "cell_type": "code",
   "execution_count": 5,
   "metadata": {},
   "outputs": [
    {
     "name": "stdout",
     "output_type": "stream",
     "text": [
      "https://kauth.kakao.com/oauth/authorize?client_id=이_문장을_REST_API_Key로_대체해_주세요&redirect_uri=https://example.com/oauth&response_type=code\n"
     ]
    }
   ],
   "source": [
    "\n",
    "redirect_uri = \"https://example.com/oauth\"\n",
    "\n",
    "url_to_open = f\"https://kauth.kakao.com/oauth/authorize?client_id={application_key}&redirect_uri={redirect_uri}&response_type=code\"\n",
    "\n",
    "print(url_to_open)\n",
    "\n",
    "# 이 코드 블록을 실행하면 아래에 완성된 주소가 출력됩니다. 이를 웹브라우저 주소창에 복사하여 열어주세요.\n"
   ]
  },
  {
   "cell_type": "code",
   "execution_count": 6,
   "metadata": {},
   "outputs": [],
   "source": [
    "# 간단한 동의 처리 후, 자동으로 연결되는 주소에서 코드를 가져옵니다. (주소창에 나타나는 주소)\n",
    "# 주소는 이런 형태일 것입니다. https://example.com/oauth?code=<인증 코드가 여기에 길게 나타남>\n",
    "\n",
    "# 이 중에서 \"code=\" 뒤에 있는 코드를 복사하여 아래의 변수에 저장해 주세요.\n",
    "\n",
    "\n",
    "code = \"이_문장을_인증코드로_대체하세요.\"\n",
    "\n",
    "\n",
    "# 키 값 입력 후, 이 코드 블록을 실행하여 code 변수에 값이 저장되도록 합니다.\n"
   ]
  },
  {
   "cell_type": "markdown",
   "metadata": {},
   "source": [
    "<br><br>\n",
    "\n",
    "\n",
    "### 준비 4 - 사용자 토큰 받기\n",
    "\n",
    "같은 페이지 (https://novice-engineers.tistory.com/9?category=908185) 참고하여, 마지막 8번을 수행합니다.  \n",
    "\n",
    "아래 코드를 실행하면 자동으로 수행됩니다.  \n",
    "\n",
    "결과물: 사용자 토큰이 저장된 kakao_token.json 파일\n"
   ]
  },
  {
   "cell_type": "code",
   "execution_count": null,
   "metadata": {},
   "outputs": [],
   "source": [
    "import os\n",
    "import json\n",
    "import requests\n",
    "\n",
    "\n",
    "json_file = 'kakao_token.json'\n",
    "\n",
    "\n",
    "# 파일이 이미 존재하는 경우, 파일에서 읽어옵니다.\n",
    "if os.path.isfile(json_file):\n",
    "  with open(json_file, 'r') as fp:\n",
    "    tokens = json.load(fp)\n",
    "        \n",
    "  print('access_token : ', tokens['access_token'])\n",
    "\n",
    "else:\n",
    "  try:        \n",
    "    # access token 받기\n",
    "    url = \"https://kauth.kakao.com/oauth/token\"\n",
    "    data = {\n",
    "      \"grant_type\" : \"authorization_code\" ,\n",
    "      \"client_id\" : application_key,\n",
    "      \"redirect_url\" : \"https://example.com\" ,\n",
    "      \"code\" : code\n",
    "    }\n",
    "    response = requests.post(url, data=data)\n",
    "    tokens = response.json()\n",
    "    \n",
    "    # access token 출력하기\n",
    "    print('access_token : ', tokens['access_token'])\n",
    "    \n",
    "    # access token 저장하기\n",
    "    with open(json_file, 'w') as fp :\n",
    "      json.dump(tokens, fp)\n",
    "\n",
    "      \n",
    "  except Exception as e:\n",
    "    print(type(e), e)\n",
    "    print(\"에러가 발생하여 json 파일이 저장되지 않았습니다. KeyError인 경우, 인증코드부터 다시 받아서 시도해 보세요.\")\n",
    "\n"
   ]
  },
  {
   "cell_type": "markdown",
   "metadata": {},
   "source": [
    "<br><br>\n",
    "\n",
    "\n",
    "### 참고: Refresh Token\n",
    "\n",
    "Access Token은 유효기간이 있습니다. 일정 기간이 지나면 만료되기 때문에, 만료 1개월 전부터는 refresh token을 통해 갱신 가능합니다.\n",
    "만료된 경우, 위의 \"준비3. 인증코드 받기\" ~ \"준비4. 사용자 토큰 받기\" 과정을 다시 수행하면 됩니다.\n",
    "\n",
    "아래는 refresh token으로 access token을 다시 받아오는 코드입니다.\n"
   ]
  },
  {
   "cell_type": "code",
   "execution_count": null,
   "metadata": {},
   "outputs": [],
   "source": [
    "\n",
    "application_key = \"이_문장을_REST_API_Key로_대체해_주세요\"\n",
    "\n",
    "\n",
    "json_file = 'kakao_token.json'\n",
    "with open(json_file, 'r') as fp :\n",
    "    tokens = json.load(fp)\n",
    "\n",
    "refresh_token = tokens['refresh_token']\n",
    "\n",
    "\n",
    "url = \"https://kauth.kakao.com/oauth/token\"\n",
    "\n",
    "data = {\n",
    "    \"grant_type\": \"refresh_token\",\n",
    "    \"client_id\": application_key,\n",
    "    \"refresh_token\": refresh_token\n",
    "}\n",
    "\n",
    "response = requests.post(url, data=data)\n",
    "access_token = response.json()['access_token']  # access_token 갱신\n",
    "\n",
    "\n",
    "# 다시 파일로 저장 (덮어쓰기)\n",
    "tokens['access_token'] = access_token\n",
    "with open(json_file, 'w') as fp :\n",
    "    json.dump(tokens, fp)\n"
   ]
  },
  {
   "cell_type": "markdown",
   "metadata": {},
   "source": [
    "---"
   ]
  },
  {
   "cell_type": "markdown",
   "metadata": {},
   "source": [
    "<br><br>\n",
    "\n",
    "\n",
    "### 연습 1 -  카카오톡으로 나에게 메시지 보내기 \n",
    "\n",
    "사용자 토큰 ```tokens['access_token']```이 사용됩니다.\n"
   ]
  },
  {
   "cell_type": "code",
   "execution_count": null,
   "metadata": {},
   "outputs": [],
   "source": [
    "# 위의 \"준비 1 ~ 4\" 코드는 최초 한 번만 실행하면 됩니다.\n",
    "# 준비 과정을 정상적으로 마친 경우, 본 코드부터 실행하면 되도록 json 파일로부터 access_token을 가져옵니다.\n",
    "\n",
    "import json\n",
    "import requests\n",
    "\n",
    "\n",
    "json_file = 'kakao_token.json'\n",
    "\n",
    "with open(json_file, 'r') as fp:\n",
    "  tokens = json.load(fp)\n",
    "  access_token = tokens['access_token']\n",
    "  \n",
    "print(access_token)\n"
   ]
  },
  {
   "cell_type": "code",
   "execution_count": 9,
   "metadata": {},
   "outputs": [
    {
     "name": "stdout",
     "output_type": "stream",
     "text": [
      "메시지를 성공적으로 보냈습니다.\n"
     ]
    }
   ],
   "source": [
    "# 테스트 메시지 발송\n",
    "\n",
    "msgtext = \"테스트 메시지입니다.\"\n",
    "msglink = \"www.google.com\"\n",
    "\n",
    "\n",
    "msgurl = \"https://kapi.kakao.com/v2/api/talk/memo/default/send\"\n",
    "\n",
    "headers = {\n",
    "  \"Authorization\": \"Bearer \" + access_token\n",
    "}\n",
    "\n",
    "data = {\n",
    "  \"template_object\" : json.dumps({ \"object_type\" : \"text\",\n",
    "                                   \"text\" : msgtext,\n",
    "                                   \"link\" : {\n",
    "                                              \"web_url\" : msglink\n",
    "                                            }\n",
    "                                 })\n",
    "}\n",
    "\n",
    "response = requests.post(msgurl, headers=headers, data=data)\n",
    "\n",
    "if response.json().get('result_code') == 0:\n",
    "    print('메시지를 성공적으로 보냈습니다.')\n",
    "    \n",
    "else:\n",
    "    print('메시지를 성공적으로 보내지 못했습니다. 오류메시지 : ' + str(response.json()))\n"
   ]
  },
  {
   "cell_type": "markdown",
   "metadata": {},
   "source": [
    "<br><br>\n",
    "\n",
    "\n",
    "### 연습2 - 웹 크롤링 정보 나에게 카카오톡 메시지로 보내기\n",
    "\n",
    "\n",
    "네이버에 코로나를 검색했을때 나오는 첫번쨰 기사의 제목을 카카오톡 메시지로 전송하기\n"
   ]
  },
  {
   "cell_type": "code",
   "execution_count": 10,
   "metadata": {},
   "outputs": [
    {
     "name": "stdout",
     "output_type": "stream",
     "text": [
      "메시지를 성공적으로 보냈습니다.\n"
     ]
    }
   ],
   "source": [
    "import json\n",
    "import requests\n",
    "from bs4 import BeautifulSoup as bs\n",
    "\n",
    "\n",
    "url = 'https://search.naver.com/search.naver?where=news&sm=tab_jum&query=코로나'\n",
    "\n",
    "response = requests.get(url)\n",
    "html_text = response.text\n",
    "\n",
    "\n",
    "soup = bs(html_text, 'html.parser')\n",
    "\n",
    "title = soup.select_one('a.news_tit').get_text()   # title이라는 변수에 기사 제목이 저장\n",
    "\n",
    "\n",
    "# json 파일에서 access token 가져오기\n",
    "json_file = 'kakao_token.json'\n",
    "\n",
    "with open(json_file, 'r') as fp:\n",
    "  tokens = json.load(fp)\n",
    "  access_token = tokens['access_token']\n",
    "  \n",
    "\n",
    "# 메시지 구성하기\n",
    "url = \"https://kapi.kakao.com/v2/api/talk/memo/default/send\"\n",
    "\n",
    "headers = {\n",
    "    \"Authorization\": \"Bearer \" + tokens['access_token']\n",
    "}\n",
    "\n",
    "data = {\n",
    "    \"template_object\" : json.dumps({ \"object_type\" : \"text\",\n",
    "                                     \"text\" : title,\n",
    "                                     \"link\" : {\n",
    "                                                 \"web_url\" : \"www.naver.com\"\n",
    "                                              }\n",
    "    })\n",
    "}\n",
    "\n",
    "# 메시지 보내기\n",
    "response = requests.post(url, headers=headers, data=data)\n",
    "if response.json().get('result_code') == 0:\n",
    "    print('메시지를 성공적으로 보냈습니다.')\n",
    "else:\n",
    "    print('메시지를 성공적으로 보내지 못했습니다. 오류메시지 : ' + str(response.json()))\n"
   ]
  },
  {
   "cell_type": "markdown",
   "metadata": {},
   "source": [
    "---"
   ]
  },
  {
   "cell_type": "markdown",
   "metadata": {},
   "source": [
    "### 문제 1\n",
    "\n",
    "자유주제: 나만의 크롤링 결과를 만들어서 (실습 #4 활용 또는 새로운 것 만들기 자유) 카카오톡 메시지로 보내기\n",
    "\n",
    "텍스트 메시지 이상의 다른 템플릿의 메시지를 시도해실 분은 https://ai-creator.tistory.com/23?category=759438 참조해 보세요.\n",
    "\n",
    "카카오 OpenAPI 에서는 이미지, 리스트 등등 훨씬 많은 템플릿의 메시지를 지원합니다.\n"
   ]
  },
  {
   "cell_type": "code",
   "execution_count": 11,
   "metadata": {},
   "outputs": [],
   "source": [
    "# 자유롭게 작성\n",
    "\n",
    "# access token으로 header 구성, 템플릿에 맞는 data 구성 후, requests.post() 함수로 메시지 url을 호출하는 기본적인 틀만 지키면 됩니다.\n",
    "\n",
    "\n"
   ]
  },
  {
   "cell_type": "markdown",
   "metadata": {},
   "source": [
    "<br>\n",
    "\n",
    "### 문제 2\n",
    "\n",
    "문제 1번의 메시지를 예약 발송하기\n",
    "\n",
    "1. 문제 1에서 작성한 코드를 .py 파일로 저장.\n",
    "\n",
    "2. 운영체제의 작업 스케줄러를 이용하여 매일 같은 시간에 python ooo.py 파일이 작동하도록 설정\n",
    "\n",
    "  - 윈도우는 작업스케줄러, Mac은 cron 사용\n",
    "  - 참고사이트 : https://blog.stories.pe.kr/227 \n",
    "\n"
   ]
  },
  {
   "cell_type": "markdown",
   "metadata": {},
   "source": [
    "피아스페이스(주) All Rights Reserved.  \n",
    "\n",
    "https://www.pia-space.net"
   ]
  }
 ],
 "metadata": {
  "interpreter": {
   "hash": "324e610921799cd44a923c4cc0f4a537770ab5d77848c57372b4991b8679192c"
  },
  "kernelspec": {
   "display_name": "Python 3.8.10 64-bit (windows store)",
   "language": "python",
   "name": "python3"
  },
  "language_info": {
   "codemirror_mode": {
    "name": "ipython",
    "version": 3
   },
   "file_extension": ".py",
   "mimetype": "text/x-python",
   "name": "python",
   "nbconvert_exporter": "python",
   "pygments_lexer": "ipython3",
   "version": "3.8.12"
  },
  "orig_nbformat": 4
 },
 "nbformat": 4,
 "nbformat_minor": 2
}
